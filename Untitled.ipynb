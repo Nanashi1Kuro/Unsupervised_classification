{
  "cells": [
    {
      "cell_type": "markdown",
      "source": [
        "# Задача: Классификация новостей и удаление их дубликатов"
      ],
      "metadata": {
        "id": "1bFwgqL3-n5t"
      },
      "id": "1bFwgqL3-n5t"
    },
    {
      "cell_type": "markdown",
      "id": "a299ec97-647c-4806-aaf7-7f64247237d8",
      "metadata": {
        "id": "a299ec97-647c-4806-aaf7-7f64247237d8"
      },
      "source": [
        "Импортируем нужные библиотеки"
      ]
    },
    {
      "cell_type": "code",
      "execution_count": null,
      "id": "ccd800a3-9a13-4ab9-bbe6-a10bddbbb006",
      "metadata": {
        "id": "ccd800a3-9a13-4ab9-bbe6-a10bddbbb006",
        "outputId": "493b77db-e0a2-4525-dc15-bb64e07a2040"
      },
      "outputs": [
        {
          "name": "stderr",
          "output_type": "stream",
          "text": [
            "2023-10-27 08:05:36.765558: I tensorflow/core/util/port.cc:110] oneDNN custom operations are on. You may see slightly different numerical results due to floating-point round-off errors from different computation orders. To turn them off, set the environment variable `TF_ENABLE_ONEDNN_OPTS=0`.\n",
            "2023-10-27 08:05:36.794207: I tensorflow/core/platform/cpu_feature_guard.cc:182] This TensorFlow binary is optimized to use available CPU instructions in performance-critical operations.\n",
            "To enable the following instructions: AVX2 AVX_VNNI FMA, in other operations, rebuild TensorFlow with the appropriate compiler flags.\n",
            "2023-10-27 08:05:37.219861: W tensorflow/compiler/tf2tensorrt/utils/py_utils.cc:38] TF-TRT Warning: Could not find TensorRT\n"
          ]
        }
      ],
      "source": [
        "import numpy as np\n",
        "import pandas as pd\n",
        "import matplotlib.pyplot as plt\n",
        "import seaborn as sns\n",
        "import os\n",
        "import tensorflow as tf\n",
        "from tensorflow import keras\n",
        "\n",
        "import warnings\n",
        "warnings.filterwarnings('ignore')"
      ]
    },
    {
      "cell_type": "markdown",
      "id": "49f56e84-0b97-43a8-882b-4608f3e7c40b",
      "metadata": {
        "id": "49f56e84-0b97-43a8-882b-4608f3e7c40b"
      },
      "source": [
        "Проверим наличие GPU"
      ]
    },
    {
      "cell_type": "code",
      "execution_count": null,
      "id": "1d1775f7-d6ac-4bd0-9420-aa0add507a72",
      "metadata": {
        "colab": {
          "base_uri": "https://localhost:8080/"
        },
        "id": "1d1775f7-d6ac-4bd0-9420-aa0add507a72",
        "outputId": "cca507e3-8398-4e56-cec0-eec4836cfb5a"
      },
      "outputs": [
        {
          "name": "stdout",
          "output_type": "stream",
          "text": [
            "['/device:CPU:0', '/device:GPU:0']\n"
          ]
        },
        {
          "name": "stderr",
          "output_type": "stream",
          "text": [
            "2023-10-27 08:05:38.104161: I tensorflow/compiler/xla/stream_executor/cuda/cuda_gpu_executor.cc:995] successful NUMA node read from SysFS had negative value (-1), but there must be at least one NUMA node, so returning NUMA node zero. See more at https://github.com/torvalds/linux/blob/v6.0/Documentation/ABI/testing/sysfs-bus-pci#L344-L355\n",
            "2023-10-27 08:05:38.281243: I tensorflow/compiler/xla/stream_executor/cuda/cuda_gpu_executor.cc:995] successful NUMA node read from SysFS had negative value (-1), but there must be at least one NUMA node, so returning NUMA node zero. See more at https://github.com/torvalds/linux/blob/v6.0/Documentation/ABI/testing/sysfs-bus-pci#L344-L355\n",
            "2023-10-27 08:05:38.281572: I tensorflow/compiler/xla/stream_executor/cuda/cuda_gpu_executor.cc:995] successful NUMA node read from SysFS had negative value (-1), but there must be at least one NUMA node, so returning NUMA node zero. See more at https://github.com/torvalds/linux/blob/v6.0/Documentation/ABI/testing/sysfs-bus-pci#L344-L355\n",
            "2023-10-27 08:05:39.158693: I tensorflow/compiler/xla/stream_executor/cuda/cuda_gpu_executor.cc:995] successful NUMA node read from SysFS had negative value (-1), but there must be at least one NUMA node, so returning NUMA node zero. See more at https://github.com/torvalds/linux/blob/v6.0/Documentation/ABI/testing/sysfs-bus-pci#L344-L355\n",
            "2023-10-27 08:05:39.158855: I tensorflow/compiler/xla/stream_executor/cuda/cuda_gpu_executor.cc:995] successful NUMA node read from SysFS had negative value (-1), but there must be at least one NUMA node, so returning NUMA node zero. See more at https://github.com/torvalds/linux/blob/v6.0/Documentation/ABI/testing/sysfs-bus-pci#L344-L355\n",
            "2023-10-27 08:05:39.158924: I tensorflow/compiler/xla/stream_executor/cuda/cuda_gpu_executor.cc:995] successful NUMA node read from SysFS had negative value (-1), but there must be at least one NUMA node, so returning NUMA node zero. See more at https://github.com/torvalds/linux/blob/v6.0/Documentation/ABI/testing/sysfs-bus-pci#L344-L355\n",
            "2023-10-27 08:05:39.159005: I tensorflow/core/common_runtime/gpu/gpu_device.cc:1639] Created device /device:GPU:0 with 2114 MB memory:  -> device: 0, name: NVIDIA GeForce RTX 3050 Laptop GPU, pci bus id: 0000:01:00.0, compute capability: 8.6\n"
          ]
        }
      ],
      "source": [
        "from tensorflow.python.client import device_lib\n",
        "\n",
        "def get_available_devices():\n",
        "    local_device_protos = device_lib.list_local_devices()\n",
        "    return [x.name for x in local_device_protos]\n",
        "\n",
        "print(get_available_devices())"
      ]
    },
    {
      "cell_type": "markdown",
      "source": [
        "# Изучение датасета"
      ],
      "metadata": {
        "id": "DHtUUhYK_Y-w"
      },
      "id": "DHtUUhYK_Y-w"
    },
    {
      "cell_type": "markdown",
      "id": "b9153554-acf0-4176-8396-60c235bf85ca",
      "metadata": {
        "id": "b9153554-acf0-4176-8396-60c235bf85ca"
      },
      "source": [
        "Для нашей задачи, классификации новостей, возьмем датасет Ag news с kaggle.\n",
        "https://www.kaggle.com/datasets/amananandrai/ag-news-classification-dataset\n",
        "\n",
        "Разархивируем и изучим датафрейм"
      ]
    },
    {
      "cell_type": "code",
      "execution_count": null,
      "id": "e05cab49-0479-45d8-b7b2-b88b1911252a",
      "metadata": {
        "colab": {
          "base_uri": "https://localhost:8080/"
        },
        "id": "e05cab49-0479-45d8-b7b2-b88b1911252a",
        "outputId": "bf703b4d-8f41-4ede-e665-787b15531f45"
      },
      "outputs": [
        {
          "ename": "ModuleNotFoundError",
          "evalue": "No module named 'google.colab'",
          "output_type": "error",
          "traceback": [
            "\u001b[0;31m---------------------------------------------------------------------------\u001b[0m",
            "\u001b[0;31mModuleNotFoundError\u001b[0m                       Traceback (most recent call last)",
            "Cell \u001b[0;32mIn[3], line 1\u001b[0m\n\u001b[0;32m----> 1\u001b[0m \u001b[38;5;28;01mfrom\u001b[39;00m \u001b[38;5;21;01mgoogle\u001b[39;00m\u001b[38;5;21;01m.\u001b[39;00m\u001b[38;5;21;01mcolab\u001b[39;00m \u001b[38;5;28;01mimport\u001b[39;00m drive\n\u001b[1;32m      2\u001b[0m drive\u001b[38;5;241m.\u001b[39mmount(\u001b[38;5;124m'\u001b[39m\u001b[38;5;124m/content/drive\u001b[39m\u001b[38;5;124m'\u001b[39m)\n",
            "\u001b[0;31mModuleNotFoundError\u001b[0m: No module named 'google.colab'"
          ]
        }
      ],
      "source": [
        "from google.colab import drive\n",
        "drive.mount('/content/drive')"
      ]
    },
    {
      "cell_type": "code",
      "execution_count": null,
      "id": "9c05d306-3400-4af5-9e5a-a564a52c6458",
      "metadata": {
        "id": "9c05d306-3400-4af5-9e5a-a564a52c6458"
      },
      "outputs": [],
      "source": [
        "#!unzip \"/content/drive/MyDrive/Colab Notebooks/archive.zip\" -d \"/content/\""
      ]
    },
    {
      "cell_type": "code",
      "execution_count": null,
      "id": "db836489-ec67-4ff9-8a1b-c381e500ed1e",
      "metadata": {
        "id": "db836489-ec67-4ff9-8a1b-c381e500ed1e"
      },
      "outputs": [],
      "source": [
        "# Чтение файла 'train.csv' с разделителем ',' и без заголовков, создание столбцов 'class', 'title' и 'description' для данных\n",
        "ag_train = pd.read_csv('train.csv',sep=',',header=None, names=['class','title','description'])\n",
        "\n",
        "# Чтение файла 'test.csv' с разделителем ',' и без заголовков, создание столбцов 'class', 'title' и 'description' для данных\n",
        "ag_test = pd.read_csv('test.csv',sep=',',header=None, names=['class','title','description'])\n",
        "\n",
        "# Чтение файла 'labels.csv' с разделителем ';' для меток\n",
        "labels = pd.read_csv('labels.csv',sep=';')\n",
        "\n",
        "# Преобразование каждого элемента в столбце 'keywords' в список, используя пробел в качестве разделителя\n",
        "labels['keywords'] = labels['keywords'].apply(lambda x: x.split(' '))\n",
        "\n",
        "# Преобразование каждого ключевого слова в столбце 'keywords' в нижний регистр\n",
        "labels['keywords'] = labels['keywords'].apply(lambda description_keywords: [keyword.lower() for keyword in description_keywords])\n",
        "\n",
        "# Добавление нового столбца 'number_of_keywords', содержащего количество ключевых слов для каждой строки\n",
        "labels['number_of_keywords'] = labels['keywords'].apply(lambda row: len(row))"
      ]
    },
    {
      "cell_type": "code",
      "execution_count": null,
      "id": "2cbcec86-a8bb-48d7-983a-b94d15f9d5b4",
      "metadata": {
        "id": "2cbcec86-a8bb-48d7-983a-b94d15f9d5b4",
        "outputId": "3667a016-e292-4d6d-ed84-6cb47b6c2b47"
      },
      "outputs": [
        {
          "name": "stdout",
          "output_type": "stream",
          "text": [
            "<class 'pandas.core.frame.DataFrame'>\n",
            "RangeIndex: 4 entries, 0 to 3\n",
            "Data columns (total 4 columns):\n",
            " #   Column              Non-Null Count  Dtype \n",
            "---  ------              --------------  ----- \n",
            " 0   class_index         4 non-null      int64 \n",
            " 1   class_name          4 non-null      object\n",
            " 2   keywords            4 non-null      object\n",
            " 3   number_of_keywords  4 non-null      int64 \n",
            "dtypes: int64(2), object(2)\n",
            "memory usage: 256.0+ bytes\n"
          ]
        }
      ],
      "source": [
        "labels.info() #Посмотрим какие данные содержатся в таблице"
      ]
    },
    {
      "cell_type": "code",
      "execution_count": null,
      "id": "8e297caa-dfe9-4bf1-b0bf-73fbb4872331",
      "metadata": {
        "id": "8e297caa-dfe9-4bf1-b0bf-73fbb4872331",
        "outputId": "f6dc1ea0-73ca-4e42-ab0b-4f56d770368f"
      },
      "outputs": [
        {
          "data": {
            "text/html": [
              "<div>\n",
              "<style scoped>\n",
              "    .dataframe tbody tr th:only-of-type {\n",
              "        vertical-align: middle;\n",
              "    }\n",
              "\n",
              "    .dataframe tbody tr th {\n",
              "        vertical-align: top;\n",
              "    }\n",
              "\n",
              "    .dataframe thead th {\n",
              "        text-align: right;\n",
              "    }\n",
              "</style>\n",
              "<table border=\"1\" class=\"dataframe\">\n",
              "  <thead>\n",
              "    <tr style=\"text-align: right;\">\n",
              "      <th></th>\n",
              "      <th>class</th>\n",
              "      <th>title</th>\n",
              "      <th>description</th>\n",
              "      <th>data_set_type</th>\n",
              "    </tr>\n",
              "  </thead>\n",
              "  <tbody>\n",
              "    <tr>\n",
              "      <th>0</th>\n",
              "      <td>3</td>\n",
              "      <td>Wall St. Bears Claw Back Into the Black (Reuters)</td>\n",
              "      <td>Reuters - Short-sellers, Wall Street's dwindli...</td>\n",
              "      <td>train</td>\n",
              "    </tr>\n",
              "    <tr>\n",
              "      <th>1</th>\n",
              "      <td>3</td>\n",
              "      <td>Carlyle Looks Toward Commercial Aerospace (Reu...</td>\n",
              "      <td>Reuters - Private investment firm Carlyle Grou...</td>\n",
              "      <td>train</td>\n",
              "    </tr>\n",
              "    <tr>\n",
              "      <th>2</th>\n",
              "      <td>3</td>\n",
              "      <td>Oil and Economy Cloud Stocks' Outlook (Reuters)</td>\n",
              "      <td>Reuters - Soaring crude prices plus worries\\ab...</td>\n",
              "      <td>train</td>\n",
              "    </tr>\n",
              "    <tr>\n",
              "      <th>3</th>\n",
              "      <td>3</td>\n",
              "      <td>Iraq Halts Oil Exports from Main Southern Pipe...</td>\n",
              "      <td>Reuters - Authorities have halted oil export\\f...</td>\n",
              "      <td>train</td>\n",
              "    </tr>\n",
              "    <tr>\n",
              "      <th>4</th>\n",
              "      <td>3</td>\n",
              "      <td>Oil prices soar to all-time record, posing new...</td>\n",
              "      <td>AFP - Tearaway world oil prices, toppling reco...</td>\n",
              "      <td>train</td>\n",
              "    </tr>\n",
              "  </tbody>\n",
              "</table>\n",
              "</div>"
            ],
            "text/plain": [
              "  class                                              title  \\\n",
              "0     3  Wall St. Bears Claw Back Into the Black (Reuters)   \n",
              "1     3  Carlyle Looks Toward Commercial Aerospace (Reu...   \n",
              "2     3    Oil and Economy Cloud Stocks' Outlook (Reuters)   \n",
              "3     3  Iraq Halts Oil Exports from Main Southern Pipe...   \n",
              "4     3  Oil prices soar to all-time record, posing new...   \n",
              "\n",
              "                                         description data_set_type  \n",
              "0  Reuters - Short-sellers, Wall Street's dwindli...         train  \n",
              "1  Reuters - Private investment firm Carlyle Grou...         train  \n",
              "2  Reuters - Soaring crude prices plus worries\\ab...         train  \n",
              "3  Reuters - Authorities have halted oil export\\f...         train  \n",
              "4  AFP - Tearaway world oil prices, toppling reco...         train  "
            ]
          },
          "execution_count": 6,
          "metadata": {},
          "output_type": "execute_result"
        }
      ],
      "source": [
        "# Добавим классификацию данных\n",
        "ag_train['data_set_type'] = 'train'\n",
        "ag_test['data_set_type'] = 'test'\n",
        "\n",
        "# Соеденим train and test данные\n",
        "ag_full_corpus = pd.concat([ag_train,ag_test]).reset_index(drop=True)\n",
        "ag_full_corpus = ag_full_corpus.tail(-1)\n",
        "ag_full_corpus = ag_full_corpus.reset_index(drop=True)\n",
        "ag_full_corpus.head()"
      ]
    },
    {
      "cell_type": "markdown",
      "id": "76b8d759-62ef-417c-a90f-c0c0b6e91ad6",
      "metadata": {
        "id": "76b8d759-62ef-417c-a90f-c0c0b6e91ad6"
      },
      "source": [
        "Для задачи классфикикации новостей мной будут рассмотрены только методы обучения без учителя, т.к в реальных условиях данные будут не размечены.\n",
        "\n",
        "В процессе исследования уже существующих решений были обнаружены несколько моделей, таких как \"lbl2vec\" и \"DocScan\", которые могут значительно упростить процесс решения поставленной задачи. Однако, помимо этих моделей, планируется также использовать BERT embeddings для проведения сравнительного анализа результатов.\n",
        "\n",
        "Важно отметить, что для применения данных методов необходимо создать ключевые слова для каждого из классов, что является предполагаемым этапом в исследовании. Эти ключевые слова будут использоваться для обучения моделей и позволят провести сравнительный анализ эффективности каждого метода в решении поставленной задачи."
      ]
    },
    {
      "cell_type": "markdown",
      "source": [
        "# Lbl2Vec"
      ],
      "metadata": {
        "id": "9_XO-Eb0_evk"
      },
      "id": "9_XO-Eb0_evk"
    },
    {
      "cell_type": "markdown",
      "id": "1b7b786c-f9da-45f7-8419-7d6bfefff18a",
      "metadata": {
        "id": "1b7b786c-f9da-45f7-8419-7d6bfefff18a"
      },
      "source": [
        "Lbl2Vec - это алгоритм для классификации документов и поиска документов без учителя. Он автоматически генерирует векторы, совместно встраивая метки, документы и слова, и возвращает документы, относящиеся к темам, определенным заранее заданными ключевыми словами. Эта библиотека включает в себя два разных типа моделей. Простая модель Lbl2Vec использует Doc2Vec, в то время как модель Lbl2TransformerVec использует модели на основе трансформеров для создания вложений. После обучения модели вы можете:"
      ]
    },
    {
      "cell_type": "markdown",
      "id": "26b5c195-dd2d-4298-b3f0-79c62a5b03bd",
      "metadata": {
        "id": "26b5c195-dd2d-4298-b3f0-79c62a5b03bd"
      },
      "source": [
        "\n",
        "\n",
        "*   Классифицировать документы как относящиеся к одной из заранее заданных тем\n",
        "*   Получить оценки сходства документов с каждой из заранее заданных тем\n",
        "*   Получить наиболее похожую заранее заданную тему для документов"
      ]
    },
    {
      "cell_type": "markdown",
      "id": "c8e2d867-56c3-4302-819f-48cd0d265b82",
      "metadata": {
        "id": "c8e2d867-56c3-4302-819f-48cd0d265b82"
      },
      "source": [
        "Для ее работы используем библиотеку GenSim.\n",
        "Gensim – это библиотека с открытым исходным кодом на Python, написанная Радимом Рехуреком, которая используется для тематического моделирования без учителя и обработки естественного языка (NLP). Она предназначена для извлечения семантических тем из документов."
      ]
    },
    {
      "cell_type": "code",
      "execution_count": null,
      "id": "40e5e2c3-f639-43ca-bf89-8a9cdf63a187",
      "metadata": {
        "id": "40e5e2c3-f639-43ca-bf89-8a9cdf63a187"
      },
      "outputs": [],
      "source": [
        "from gensim.utils import simple_preprocess\n",
        "from gensim.models.doc2vec import TaggedDocument\n",
        "from gensim.parsing.preprocessing import strip_tags\n",
        "from sklearn.metrics import f1_score"
      ]
    },
    {
      "cell_type": "code",
      "execution_count": null,
      "id": "2fd33632-6df3-4cd4-a41e-4f215cfe875c",
      "metadata": {
        "id": "2fd33632-6df3-4cd4-a41e-4f215cfe875c"
      },
      "outputs": [],
      "source": [
        "def tokenize(doc):\n",
        "    return simple_preprocess(strip_tags(doc), deacc=True, min_len=2, max_len=15)"
      ]
    },
    {
      "cell_type": "code",
      "execution_count": null,
      "id": "54edf0c4-e0a2-4bfb-bbbb-7fee4550328e",
      "metadata": {
        "id": "54edf0c4-e0a2-4bfb-bbbb-7fee4550328e"
      },
      "outputs": [],
      "source": [
        "# Создание столбца 'tagged_docs' в наборе данных ag_full_corpus.\n",
        "# Каждая строка в столбце 'tagged_docs' представляет собой объект TaggedDocument, содержащий токенизированные данные.\n",
        "# Идентификатор документа представляет собой строковое представление значения индекса строки.\n",
        "ag_full_corpus['tagged_docs'] = ag_full_corpus.apply(lambda row: TaggedDocument(tokenize(row['title'] + '. ' + row['description']), [str(row.name)]), axis=1)"
      ]
    },
    {
      "cell_type": "code",
      "execution_count": null,
      "id": "3cd89f60-1454-4f94-9abd-620718ccb540",
      "metadata": {
        "scrolled": true,
        "id": "3cd89f60-1454-4f94-9abd-620718ccb540",
        "outputId": "00c7aea1-4053-4bd6-cb47-55a03678b274"
      },
      "outputs": [
        {
          "name": "stdout",
          "output_type": "stream",
          "text": [
            "<class 'pandas.core.frame.DataFrame'>\n",
            "RangeIndex: 127601 entries, 0 to 127600\n",
            "Data columns (total 5 columns):\n",
            " #   Column         Non-Null Count   Dtype \n",
            "---  ------         --------------   ----- \n",
            " 0   class          127601 non-null  object\n",
            " 1   title          127601 non-null  object\n",
            " 2   description    127601 non-null  object\n",
            " 3   data_set_type  127601 non-null  object\n",
            " 4   tagged_docs    127601 non-null  object\n",
            "dtypes: object(5)\n",
            "memory usage: 4.9+ MB\n"
          ]
        }
      ],
      "source": [
        "ag_full_corpus.info()"
      ]
    },
    {
      "cell_type": "code",
      "execution_count": null,
      "id": "5f73a865-c789-4e8b-b059-32b48fea789a",
      "metadata": {
        "id": "5f73a865-c789-4e8b-b059-32b48fea789a"
      },
      "outputs": [],
      "source": [
        "ag_full_corpus['doc_key'] = ag_full_corpus.index.astype(str)"
      ]
    },
    {
      "cell_type": "markdown",
      "id": "18e7e7c5-43c4-4509-ad4f-a80fcce37d8c",
      "metadata": {
        "id": "18e7e7c5-43c4-4509-ad4f-a80fcce37d8c"
      },
      "source": [
        "Для объединения таблиц необходимо привести соответствующие данные к общему типу данных."
      ]
    },
    {
      "cell_type": "code",
      "execution_count": null,
      "id": "3b8537c4-12f9-4ae2-9626-39fd2721ef89",
      "metadata": {
        "id": "3b8537c4-12f9-4ae2-9626-39fd2721ef89"
      },
      "outputs": [],
      "source": [
        "import re\n",
        "ag_full_corpus['class'] = ag_full_corpus['class'].astype(str)\n",
        "ag_full_corpus = ag_full_corpus[ag_full_corpus['class'].str.contains('^\\d*\\.?\\d+$')]\n",
        "ag_full_corpus['class'] = ag_full_corpus['class'].astype(int)"
      ]
    },
    {
      "cell_type": "code",
      "execution_count": null,
      "id": "e28be804-6977-4b5f-a142-787ce443e24d",
      "metadata": {
        "id": "e28be804-6977-4b5f-a142-787ce443e24d"
      },
      "outputs": [],
      "source": [
        "ag_full_corpus = ag_full_corpus.merge(labels, left_on='class', right_on='class_index', how='left').drop(['class', 'keywords'], axis=1)"
      ]
    },
    {
      "cell_type": "code",
      "execution_count": null,
      "id": "2c8649ab-c838-45bd-a54c-521361dd2342",
      "metadata": {
        "id": "2c8649ab-c838-45bd-a54c-521361dd2342",
        "outputId": "a1e4749a-80dd-4ab2-d700-cc6f2a9566c8"
      },
      "outputs": [
        {
          "data": {
            "text/html": [
              "<div>\n",
              "<style scoped>\n",
              "    .dataframe tbody tr th:only-of-type {\n",
              "        vertical-align: middle;\n",
              "    }\n",
              "\n",
              "    .dataframe tbody tr th {\n",
              "        vertical-align: top;\n",
              "    }\n",
              "\n",
              "    .dataframe thead th {\n",
              "        text-align: right;\n",
              "    }\n",
              "</style>\n",
              "<table border=\"1\" class=\"dataframe\">\n",
              "  <thead>\n",
              "    <tr style=\"text-align: right;\">\n",
              "      <th></th>\n",
              "      <th>title</th>\n",
              "      <th>description</th>\n",
              "      <th>data_set_type</th>\n",
              "      <th>tagged_docs</th>\n",
              "      <th>doc_key</th>\n",
              "      <th>class_index</th>\n",
              "      <th>class_name</th>\n",
              "      <th>number_of_keywords</th>\n",
              "    </tr>\n",
              "  </thead>\n",
              "  <tbody>\n",
              "    <tr>\n",
              "      <th>0</th>\n",
              "      <td>Wall St. Bears Claw Back Into the Black (Reuters)</td>\n",
              "      <td>Reuters - Short-sellers, Wall Street's dwindli...</td>\n",
              "      <td>train</td>\n",
              "      <td>([wall, st, bears, claw, back, into, the, blac...</td>\n",
              "      <td>0</td>\n",
              "      <td>3</td>\n",
              "      <td>Business</td>\n",
              "      <td>10</td>\n",
              "    </tr>\n",
              "    <tr>\n",
              "      <th>1</th>\n",
              "      <td>Carlyle Looks Toward Commercial Aerospace (Reu...</td>\n",
              "      <td>Reuters - Private investment firm Carlyle Grou...</td>\n",
              "      <td>train</td>\n",
              "      <td>([carlyle, looks, toward, commercial, aerospac...</td>\n",
              "      <td>1</td>\n",
              "      <td>3</td>\n",
              "      <td>Business</td>\n",
              "      <td>10</td>\n",
              "    </tr>\n",
              "    <tr>\n",
              "      <th>2</th>\n",
              "      <td>Oil and Economy Cloud Stocks' Outlook (Reuters)</td>\n",
              "      <td>Reuters - Soaring crude prices plus worries\\ab...</td>\n",
              "      <td>train</td>\n",
              "      <td>([oil, and, economy, cloud, stocks, outlook, r...</td>\n",
              "      <td>2</td>\n",
              "      <td>3</td>\n",
              "      <td>Business</td>\n",
              "      <td>10</td>\n",
              "    </tr>\n",
              "    <tr>\n",
              "      <th>3</th>\n",
              "      <td>Iraq Halts Oil Exports from Main Southern Pipe...</td>\n",
              "      <td>Reuters - Authorities have halted oil export\\f...</td>\n",
              "      <td>train</td>\n",
              "      <td>([iraq, halts, oil, exports, from, main, south...</td>\n",
              "      <td>3</td>\n",
              "      <td>3</td>\n",
              "      <td>Business</td>\n",
              "      <td>10</td>\n",
              "    </tr>\n",
              "    <tr>\n",
              "      <th>4</th>\n",
              "      <td>Oil prices soar to all-time record, posing new...</td>\n",
              "      <td>AFP - Tearaway world oil prices, toppling reco...</td>\n",
              "      <td>train</td>\n",
              "      <td>([oil, prices, soar, to, all, time, record, po...</td>\n",
              "      <td>4</td>\n",
              "      <td>3</td>\n",
              "      <td>Business</td>\n",
              "      <td>10</td>\n",
              "    </tr>\n",
              "  </tbody>\n",
              "</table>\n",
              "</div>"
            ],
            "text/plain": [
              "                                               title  \\\n",
              "0  Wall St. Bears Claw Back Into the Black (Reuters)   \n",
              "1  Carlyle Looks Toward Commercial Aerospace (Reu...   \n",
              "2    Oil and Economy Cloud Stocks' Outlook (Reuters)   \n",
              "3  Iraq Halts Oil Exports from Main Southern Pipe...   \n",
              "4  Oil prices soar to all-time record, posing new...   \n",
              "\n",
              "                                         description data_set_type  \\\n",
              "0  Reuters - Short-sellers, Wall Street's dwindli...         train   \n",
              "1  Reuters - Private investment firm Carlyle Grou...         train   \n",
              "2  Reuters - Soaring crude prices plus worries\\ab...         train   \n",
              "3  Reuters - Authorities have halted oil export\\f...         train   \n",
              "4  AFP - Tearaway world oil prices, toppling reco...         train   \n",
              "\n",
              "                                         tagged_docs doc_key  class_index  \\\n",
              "0  ([wall, st, bears, claw, back, into, the, blac...       0            3   \n",
              "1  ([carlyle, looks, toward, commercial, aerospac...       1            3   \n",
              "2  ([oil, and, economy, cloud, stocks, outlook, r...       2            3   \n",
              "3  ([iraq, halts, oil, exports, from, main, south...       3            3   \n",
              "4  ([oil, prices, soar, to, all, time, record, po...       4            3   \n",
              "\n",
              "  class_name  number_of_keywords  \n",
              "0   Business                  10  \n",
              "1   Business                  10  \n",
              "2   Business                  10  \n",
              "3   Business                  10  \n",
              "4   Business                  10  "
            ]
          },
          "execution_count": 14,
          "metadata": {},
          "output_type": "execute_result"
        }
      ],
      "source": [
        "ag_full_corpus.head()"
      ]
    },
    {
      "cell_type": "markdown",
      "id": "0391bd27-09e4-4200-87b9-52294b75e85f",
      "metadata": {
        "id": "0391bd27-09e4-4200-87b9-52294b75e85f"
      },
      "source": [
        "Применим модель"
      ]
    },
    {
      "cell_type": "code",
      "execution_count": null,
      "id": "bee47a99-e4ff-4294-9e70-314dfc6a1c00",
      "metadata": {
        "id": "bee47a99-e4ff-4294-9e70-314dfc6a1c00"
      },
      "outputs": [],
      "source": [
        "from lbl2vec import Lbl2Vec\n",
        "lbl2vec_model = Lbl2Vec(keywords_list=list(labels['keywords']), tagged_documents=ag_full_corpus['tagged_docs'][ag_full_corpus['data_set_type']=='train'], label_names=list(labels['class_name']), similarity_threshold=0.30, min_num_docs=100, epochs=10)"
      ]
    },
    {
      "cell_type": "code",
      "execution_count": null,
      "id": "988b27fa-9147-436b-8c7b-cd5d75da3fcc",
      "metadata": {
        "id": "988b27fa-9147-436b-8c7b-cd5d75da3fcc",
        "outputId": "6691bc3a-3b71-46cf-9c78-fec2392c73be"
      },
      "outputs": [
        {
          "name": "stderr",
          "output_type": "stream",
          "text": [
            "2023-10-26 13:23:20,359 - Lbl2Vec - INFO - Train document and word embeddings\n",
            "2023-10-26 13:25:51,961 - Lbl2Vec - INFO - Train label embeddings\n"
          ]
        }
      ],
      "source": [
        "lbl2vec_model.fit()"
      ]
    },
    {
      "cell_type": "code",
      "execution_count": null,
      "id": "0557e76b-d9b5-49ad-8e25-4af7957ce308",
      "metadata": {
        "id": "0557e76b-d9b5-49ad-8e25-4af7957ce308",
        "outputId": "8ebd2510-c55e-466d-817a-6c991f5f0555"
      },
      "outputs": [
        {
          "name": "stderr",
          "output_type": "stream",
          "text": [
            "2023-10-26 13:25:52,991 - Lbl2Vec - INFO - Get document embeddings from model\n",
            "2023-10-26 13:25:53,064 - Lbl2Vec - INFO - Calculate document<->label similarities\n"
          ]
        }
      ],
      "source": [
        "model_docs_lbl_similarities = lbl2vec_model.predict_model_docs()"
      ]
    },
    {
      "cell_type": "code",
      "execution_count": null,
      "id": "c7629254-bd67-422c-bdb9-41e58fc8a220",
      "metadata": {
        "id": "c7629254-bd67-422c-bdb9-41e58fc8a220",
        "outputId": "90888ec7-a9d3-496f-d72d-32eaad9af8c6"
      },
      "outputs": [
        {
          "data": {
            "text/html": [
              "<div>\n",
              "<style scoped>\n",
              "    .dataframe tbody tr th:only-of-type {\n",
              "        vertical-align: middle;\n",
              "    }\n",
              "\n",
              "    .dataframe tbody tr th {\n",
              "        vertical-align: top;\n",
              "    }\n",
              "\n",
              "    .dataframe thead th {\n",
              "        text-align: right;\n",
              "    }\n",
              "</style>\n",
              "<table border=\"1\" class=\"dataframe\">\n",
              "  <thead>\n",
              "    <tr style=\"text-align: right;\">\n",
              "      <th></th>\n",
              "      <th>doc_key</th>\n",
              "      <th>most_similar_label</th>\n",
              "      <th>highest_similarity_score</th>\n",
              "      <th>World</th>\n",
              "      <th>Sports</th>\n",
              "      <th>Business</th>\n",
              "      <th>Science/Technology</th>\n",
              "    </tr>\n",
              "  </thead>\n",
              "  <tbody>\n",
              "    <tr>\n",
              "      <th>0</th>\n",
              "      <td>0</td>\n",
              "      <td>Sports</td>\n",
              "      <td>0.498345</td>\n",
              "      <td>0.308645</td>\n",
              "      <td>0.498345</td>\n",
              "      <td>0.414814</td>\n",
              "      <td>0.472731</td>\n",
              "    </tr>\n",
              "    <tr>\n",
              "      <th>1</th>\n",
              "      <td>1</td>\n",
              "      <td>Science/Technology</td>\n",
              "      <td>0.470265</td>\n",
              "      <td>0.248289</td>\n",
              "      <td>0.312159</td>\n",
              "      <td>0.417075</td>\n",
              "      <td>0.470265</td>\n",
              "    </tr>\n",
              "    <tr>\n",
              "      <th>2</th>\n",
              "      <td>2</td>\n",
              "      <td>Business</td>\n",
              "      <td>0.511917</td>\n",
              "      <td>0.229919</td>\n",
              "      <td>0.325214</td>\n",
              "      <td>0.511917</td>\n",
              "      <td>0.398509</td>\n",
              "    </tr>\n",
              "    <tr>\n",
              "      <th>3</th>\n",
              "      <td>3</td>\n",
              "      <td>World</td>\n",
              "      <td>0.483528</td>\n",
              "      <td>0.483528</td>\n",
              "      <td>0.169232</td>\n",
              "      <td>0.376249</td>\n",
              "      <td>0.292108</td>\n",
              "    </tr>\n",
              "    <tr>\n",
              "      <th>4</th>\n",
              "      <td>4</td>\n",
              "      <td>Business</td>\n",
              "      <td>0.457545</td>\n",
              "      <td>0.357924</td>\n",
              "      <td>0.371121</td>\n",
              "      <td>0.457545</td>\n",
              "      <td>0.335226</td>\n",
              "    </tr>\n",
              "  </tbody>\n",
              "</table>\n",
              "</div>"
            ],
            "text/plain": [
              "  doc_key  most_similar_label  highest_similarity_score     World    Sports  \\\n",
              "0       0              Sports                  0.498345  0.308645  0.498345   \n",
              "1       1  Science/Technology                  0.470265  0.248289  0.312159   \n",
              "2       2            Business                  0.511917  0.229919  0.325214   \n",
              "3       3               World                  0.483528  0.483528  0.169232   \n",
              "4       4            Business                  0.457545  0.357924  0.371121   \n",
              "\n",
              "   Business  Science/Technology  \n",
              "0  0.414814            0.472731  \n",
              "1  0.417075            0.470265  \n",
              "2  0.511917            0.398509  \n",
              "3  0.376249            0.292108  \n",
              "4  0.457545            0.335226  "
            ]
          },
          "execution_count": 32,
          "metadata": {},
          "output_type": "execute_result"
        }
      ],
      "source": [
        "model_docs_lbl_similarities.head()"
      ]
    },
    {
      "cell_type": "code",
      "execution_count": null,
      "id": "d558c7a6-8e07-4b1f-a6db-c72d26349574",
      "metadata": {
        "id": "d558c7a6-8e07-4b1f-a6db-c72d26349574"
      },
      "outputs": [],
      "source": [
        "evaluation_train = model_docs_lbl_similarities.merge(ag_full_corpus[ag_full_corpus['data_set_type']=='train'], left_on='doc_key', right_on='doc_key')"
      ]
    },
    {
      "cell_type": "code",
      "execution_count": null,
      "id": "e3af30cf-f967-4003-9786-f23f52474302",
      "metadata": {
        "id": "e3af30cf-f967-4003-9786-f23f52474302",
        "outputId": "4c435354-5b32-488e-c453-a538f1621ecb"
      },
      "outputs": [
        {
          "name": "stdout",
          "output_type": "stream",
          "text": [
            "F1 score: 0.8222166666666667\n"
          ]
        }
      ],
      "source": [
        "y_true_train = evaluation_train['class_name']\n",
        "y_pred_train = evaluation_train['most_similar_label']\n",
        "print('F1 score:',f1_score(y_true_train, y_pred_train, average='micro'))"
      ]
    },
    {
      "cell_type": "markdown",
      "id": "9c1d7e37-0489-43cd-9e52-292f09fb5973",
      "metadata": {
        "id": "9c1d7e37-0489-43cd-9e52-292f09fb5973"
      },
      "source": [
        "Применим модель на тестовой выборке"
      ]
    },
    {
      "cell_type": "code",
      "execution_count": null,
      "id": "ecd5e8ad-8d3b-4326-965b-2207341bbcdc",
      "metadata": {
        "id": "ecd5e8ad-8d3b-4326-965b-2207341bbcdc",
        "outputId": "256304a2-abfe-48e2-dc52-46bed1c6f31d"
      },
      "outputs": [
        {
          "name": "stderr",
          "output_type": "stream",
          "text": [
            "2023-10-26 13:27:39,367 - Lbl2Vec - INFO - Calculate document embeddings\n",
            "2023-10-26 13:27:41,570 - Lbl2Vec - INFO - Calculate document<->label similarities\n"
          ]
        }
      ],
      "source": [
        "new_docs_lbl_similarities = lbl2vec_model.predict_new_docs(tagged_docs=ag_full_corpus['tagged_docs'][ag_full_corpus['data_set_type']=='test'])"
      ]
    },
    {
      "cell_type": "code",
      "execution_count": null,
      "id": "ab55fbd0-ecff-4402-b019-14a32a9fa73c",
      "metadata": {
        "id": "ab55fbd0-ecff-4402-b019-14a32a9fa73c",
        "outputId": "148b8a71-074b-4050-f39c-6ee7ad77c71f"
      },
      "outputs": [
        {
          "data": {
            "text/html": [
              "<div>\n",
              "<style scoped>\n",
              "    .dataframe tbody tr th:only-of-type {\n",
              "        vertical-align: middle;\n",
              "    }\n",
              "\n",
              "    .dataframe tbody tr th {\n",
              "        vertical-align: top;\n",
              "    }\n",
              "\n",
              "    .dataframe thead th {\n",
              "        text-align: right;\n",
              "    }\n",
              "</style>\n",
              "<table border=\"1\" class=\"dataframe\">\n",
              "  <thead>\n",
              "    <tr style=\"text-align: right;\">\n",
              "      <th></th>\n",
              "      <th>doc_key</th>\n",
              "      <th>most_similar_label</th>\n",
              "      <th>highest_similarity_score</th>\n",
              "      <th>World</th>\n",
              "      <th>Sports</th>\n",
              "      <th>Business</th>\n",
              "      <th>Science/Technology</th>\n",
              "    </tr>\n",
              "  </thead>\n",
              "  <tbody>\n",
              "    <tr>\n",
              "      <th>0</th>\n",
              "      <td>120001</td>\n",
              "      <td>Business</td>\n",
              "      <td>0.333258</td>\n",
              "      <td>0.294708</td>\n",
              "      <td>0.295839</td>\n",
              "      <td>0.333258</td>\n",
              "      <td>0.253046</td>\n",
              "    </tr>\n",
              "    <tr>\n",
              "      <th>1</th>\n",
              "      <td>120002</td>\n",
              "      <td>Science/Technology</td>\n",
              "      <td>0.371817</td>\n",
              "      <td>0.270300</td>\n",
              "      <td>0.310014</td>\n",
              "      <td>0.314671</td>\n",
              "      <td>0.371817</td>\n",
              "    </tr>\n",
              "    <tr>\n",
              "      <th>2</th>\n",
              "      <td>120003</td>\n",
              "      <td>Science/Technology</td>\n",
              "      <td>0.412867</td>\n",
              "      <td>0.235928</td>\n",
              "      <td>0.321020</td>\n",
              "      <td>0.357554</td>\n",
              "      <td>0.412867</td>\n",
              "    </tr>\n",
              "    <tr>\n",
              "      <th>3</th>\n",
              "      <td>120004</td>\n",
              "      <td>Sports</td>\n",
              "      <td>0.339678</td>\n",
              "      <td>0.264301</td>\n",
              "      <td>0.339678</td>\n",
              "      <td>0.291391</td>\n",
              "      <td>0.324380</td>\n",
              "    </tr>\n",
              "    <tr>\n",
              "      <th>4</th>\n",
              "      <td>120005</td>\n",
              "      <td>Science/Technology</td>\n",
              "      <td>0.381895</td>\n",
              "      <td>0.308435</td>\n",
              "      <td>0.249161</td>\n",
              "      <td>0.364858</td>\n",
              "      <td>0.381895</td>\n",
              "    </tr>\n",
              "  </tbody>\n",
              "</table>\n",
              "</div>"
            ],
            "text/plain": [
              "  doc_key  most_similar_label  highest_similarity_score     World    Sports  \\\n",
              "0  120001            Business                  0.333258  0.294708  0.295839   \n",
              "1  120002  Science/Technology                  0.371817  0.270300  0.310014   \n",
              "2  120003  Science/Technology                  0.412867  0.235928  0.321020   \n",
              "3  120004              Sports                  0.339678  0.264301  0.339678   \n",
              "4  120005  Science/Technology                  0.381895  0.308435  0.249161   \n",
              "\n",
              "   Business  Science/Technology  \n",
              "0  0.333258            0.253046  \n",
              "1  0.314671            0.371817  \n",
              "2  0.357554            0.412867  \n",
              "3  0.291391            0.324380  \n",
              "4  0.364858            0.381895  "
            ]
          },
          "execution_count": 36,
          "metadata": {},
          "output_type": "execute_result"
        }
      ],
      "source": [
        "new_docs_lbl_similarities.head()"
      ]
    },
    {
      "cell_type": "code",
      "execution_count": null,
      "id": "86b702ef-8446-44e1-8763-6329d2beb60b",
      "metadata": {
        "id": "86b702ef-8446-44e1-8763-6329d2beb60b"
      },
      "outputs": [],
      "source": [
        "evaluation_test = new_docs_lbl_similarities.merge(ag_full_corpus[ag_full_corpus['data_set_type']=='test'], left_on='doc_key', right_on='doc_key')"
      ]
    },
    {
      "cell_type": "code",
      "execution_count": null,
      "id": "5362600d-18e5-4d76-aec9-1c6b65602d83",
      "metadata": {
        "id": "5362600d-18e5-4d76-aec9-1c6b65602d83",
        "outputId": "07304859-e23c-427e-ca8b-e2bb063e5e70"
      },
      "outputs": [
        {
          "name": "stdout",
          "output_type": "stream",
          "text": [
            "F1 score: 0.8175\n"
          ]
        }
      ],
      "source": [
        "y_true_test = evaluation_test['class_name']\n",
        "y_pred_test = evaluation_test['most_similar_label']\n",
        "print('F1 score:',f1_score(y_true_test, y_pred_test, average='micro'))"
      ]
    },
    {
      "cell_type": "markdown",
      "id": "4a1621be-03ea-4fef-a4e9-a844d99c13fb",
      "metadata": {
        "id": "4a1621be-03ea-4fef-a4e9-a844d99c13fb"
      },
      "source": [
        "На тестовом датасете результат 81%"
      ]
    },
    {
      "cell_type": "markdown",
      "source": [
        "# BERT"
      ],
      "metadata": {
        "id": "pYrJr2ru_uhz"
      },
      "id": "pYrJr2ru_uhz"
    },
    {
      "cell_type": "markdown",
      "id": "9d7b4687-8de0-406d-9bf0-3f62e50859c3",
      "metadata": {
        "id": "9d7b4687-8de0-406d-9bf0-3f62e50859c3"
      },
      "source": [
        "Теперь попробуем приминить BERT"
      ]
    },
    {
      "cell_type": "markdown",
      "id": "c9387f79-a005-4ff0-8e59-b0be2db250c1",
      "metadata": {
        "id": "c9387f79-a005-4ff0-8e59-b0be2db250c1"
      },
      "source": [
        "Устновим некоторые дополнительные библиотеки\n",
        "Spacy для обработки текста"
      ]
    },
    {
      "cell_type": "code",
      "execution_count": null,
      "id": "bf9a1336-9d82-4fed-b0b1-8bbb4fb42b68",
      "metadata": {
        "id": "bf9a1336-9d82-4fed-b0b1-8bbb4fb42b68",
        "outputId": "06d0be13-7485-459a-b76e-a99321a852ee"
      },
      "outputs": [
        {
          "name": "stdout",
          "output_type": "stream",
          "text": [
            "Requirement already satisfied: spacy in /home/chris/.local/lib/python3.8/site-packages (3.6.1)\n",
            "Requirement already satisfied: pathy>=0.10.0 in /home/chris/.local/lib/python3.8/site-packages (from spacy) (0.10.2)\n",
            "Requirement already satisfied: cymem<2.1.0,>=2.0.2 in /home/chris/.local/lib/python3.8/site-packages (from spacy) (2.0.7)\n",
            "Requirement already satisfied: langcodes<4.0.0,>=3.2.0 in /home/chris/.local/lib/python3.8/site-packages (from spacy) (3.3.0)\n",
            "Requirement already satisfied: catalogue<2.1.0,>=2.0.6 in /home/chris/.local/lib/python3.8/site-packages (from spacy) (2.0.9)\n",
            "Requirement already satisfied: typer<0.10.0,>=0.3.0 in /home/chris/.local/lib/python3.8/site-packages (from spacy) (0.9.0)\n",
            "Requirement already satisfied: pydantic!=1.8,!=1.8.1,<3.0.0,>=1.7.4 in /home/chris/.local/lib/python3.8/site-packages (from spacy) (2.1.1)\n",
            "Requirement already satisfied: numpy>=1.15.0 in /home/chris/.local/lib/python3.8/site-packages (from spacy) (1.23.5)\n",
            "Requirement already satisfied: spacy-loggers<2.0.0,>=1.0.0 in /home/chris/.local/lib/python3.8/site-packages (from spacy) (1.0.4)\n",
            "Requirement already satisfied: jinja2 in /home/chris/.local/lib/python3.8/site-packages (from spacy) (3.1.2)\n",
            "Requirement already satisfied: preshed<3.1.0,>=3.0.2 in /home/chris/.local/lib/python3.8/site-packages (from spacy) (3.0.8)\n",
            "Requirement already satisfied: murmurhash<1.1.0,>=0.28.0 in /home/chris/.local/lib/python3.8/site-packages (from spacy) (1.0.9)\n",
            "Requirement already satisfied: packaging>=20.0 in /home/chris/.local/lib/python3.8/site-packages (from spacy) (21.3)\n",
            "Requirement already satisfied: requests<3.0.0,>=2.13.0 in /home/chris/.local/lib/python3.8/site-packages (from spacy) (2.31.0)\n",
            "Requirement already satisfied: tqdm<5.0.0,>=4.38.0 in /home/chris/.local/lib/python3.8/site-packages (from spacy) (4.65.0)\n",
            "Requirement already satisfied: smart-open<7.0.0,>=5.2.1 in /home/chris/.local/lib/python3.8/site-packages (from spacy) (6.3.0)\n",
            "Requirement already satisfied: spacy-legacy<3.1.0,>=3.0.11 in /home/chris/.local/lib/python3.8/site-packages (from spacy) (3.0.12)\n",
            "Requirement already satisfied: setuptools in /usr/lib/python3/dist-packages (from spacy) (45.2.0)\n",
            "Requirement already satisfied: wasabi<1.2.0,>=0.9.1 in /home/chris/.local/lib/python3.8/site-packages (from spacy) (1.1.2)\n",
            "Requirement already satisfied: srsly<3.0.0,>=2.4.3 in /home/chris/.local/lib/python3.8/site-packages (from spacy) (2.4.7)\n",
            "Requirement already satisfied: thinc<8.2.0,>=8.1.8 in /home/chris/.local/lib/python3.8/site-packages (from spacy) (8.1.12)\n",
            "Requirement already satisfied: typing-extensions>=3.7.4.3 in /usr/local/lib/python3.8/dist-packages (from typer<0.10.0,>=0.3.0->spacy) (4.8.0)\n",
            "Requirement already satisfied: click<9.0.0,>=7.1.1 in /home/chris/.local/lib/python3.8/site-packages (from typer<0.10.0,>=0.3.0->spacy) (8.1.6)\n",
            "Requirement already satisfied: pydantic-core==2.4.0 in /home/chris/.local/lib/python3.8/site-packages (from pydantic!=1.8,!=1.8.1,<3.0.0,>=1.7.4->spacy) (2.4.0)\n",
            "Requirement already satisfied: annotated-types>=0.4.0 in /home/chris/.local/lib/python3.8/site-packages (from pydantic!=1.8,!=1.8.1,<3.0.0,>=1.7.4->spacy) (0.5.0)\n",
            "Requirement already satisfied: MarkupSafe>=2.0 in /home/chris/.local/lib/python3.8/site-packages (from jinja2->spacy) (2.1.2)\n",
            "Requirement already satisfied: pyparsing!=3.0.5,>=2.0.2 in /home/chris/.local/lib/python3.8/site-packages (from packaging>=20.0->spacy) (2.4.7)\n",
            "Requirement already satisfied: urllib3<3,>=1.21.1 in /home/chris/.local/lib/python3.8/site-packages (from requests<3.0.0,>=2.13.0->spacy) (2.0.4)\n",
            "Requirement already satisfied: certifi>=2017.4.17 in /home/chris/.local/lib/python3.8/site-packages (from requests<3.0.0,>=2.13.0->spacy) (2022.12.7)\n",
            "Requirement already satisfied: charset-normalizer<4,>=2 in /home/chris/.local/lib/python3.8/site-packages (from requests<3.0.0,>=2.13.0->spacy) (3.2.0)\n",
            "Requirement already satisfied: idna<4,>=2.5 in /home/chris/.local/lib/python3.8/site-packages (from requests<3.0.0,>=2.13.0->spacy) (2.10)\n",
            "Requirement already satisfied: blis<0.8.0,>=0.7.8 in /home/chris/.local/lib/python3.8/site-packages (from thinc<8.2.0,>=8.1.8->spacy) (0.7.10)\n",
            "Requirement already satisfied: confection<1.0.0,>=0.0.1 in /home/chris/.local/lib/python3.8/site-packages (from thinc<8.2.0,>=8.1.8->spacy) (0.1.1)\n",
            "2023-10-27 08:05:57.626745: W tensorflow/compiler/tf2tensorrt/utils/py_utils.cc:38] TF-TRT Warning: Could not find TensorRT\n",
            "Requirement already satisfied: en-core-web-lg==3.6.0 from https://github.com/explosion/spacy-models/releases/download/en_core_web_lg-3.6.0/en_core_web_lg-3.6.0-py3-none-any.whl in /home/chris/.local/lib/python3.8/site-packages (3.6.0)\n",
            "Requirement already satisfied: spacy<3.7.0,>=3.6.0 in /home/chris/.local/lib/python3.8/site-packages (from en-core-web-lg==3.6.0) (3.6.1)\n",
            "Requirement already satisfied: jinja2 in /home/chris/.local/lib/python3.8/site-packages (from spacy<3.7.0,>=3.6.0->en-core-web-lg==3.6.0) (3.1.2)\n",
            "Requirement already satisfied: pydantic!=1.8,!=1.8.1,<3.0.0,>=1.7.4 in /home/chris/.local/lib/python3.8/site-packages (from spacy<3.7.0,>=3.6.0->en-core-web-lg==3.6.0) (2.1.1)\n",
            "Requirement already satisfied: packaging>=20.0 in /home/chris/.local/lib/python3.8/site-packages (from spacy<3.7.0,>=3.6.0->en-core-web-lg==3.6.0) (21.3)\n",
            "Requirement already satisfied: smart-open<7.0.0,>=5.2.1 in /home/chris/.local/lib/python3.8/site-packages (from spacy<3.7.0,>=3.6.0->en-core-web-lg==3.6.0) (6.3.0)\n",
            "Requirement already satisfied: srsly<3.0.0,>=2.4.3 in /home/chris/.local/lib/python3.8/site-packages (from spacy<3.7.0,>=3.6.0->en-core-web-lg==3.6.0) (2.4.7)\n",
            "Requirement already satisfied: tqdm<5.0.0,>=4.38.0 in /home/chris/.local/lib/python3.8/site-packages (from spacy<3.7.0,>=3.6.0->en-core-web-lg==3.6.0) (4.65.0)\n",
            "Requirement already satisfied: pathy>=0.10.0 in /home/chris/.local/lib/python3.8/site-packages (from spacy<3.7.0,>=3.6.0->en-core-web-lg==3.6.0) (0.10.2)\n",
            "Requirement already satisfied: cymem<2.1.0,>=2.0.2 in /home/chris/.local/lib/python3.8/site-packages (from spacy<3.7.0,>=3.6.0->en-core-web-lg==3.6.0) (2.0.7)\n",
            "Requirement already satisfied: setuptools in /usr/lib/python3/dist-packages (from spacy<3.7.0,>=3.6.0->en-core-web-lg==3.6.0) (45.2.0)\n",
            "Requirement already satisfied: typer<0.10.0,>=0.3.0 in /home/chris/.local/lib/python3.8/site-packages (from spacy<3.7.0,>=3.6.0->en-core-web-lg==3.6.0) (0.9.0)\n",
            "Requirement already satisfied: wasabi<1.2.0,>=0.9.1 in /home/chris/.local/lib/python3.8/site-packages (from spacy<3.7.0,>=3.6.0->en-core-web-lg==3.6.0) (1.1.2)\n",
            "Requirement already satisfied: requests<3.0.0,>=2.13.0 in /home/chris/.local/lib/python3.8/site-packages (from spacy<3.7.0,>=3.6.0->en-core-web-lg==3.6.0) (2.31.0)\n",
            "Requirement already satisfied: catalogue<2.1.0,>=2.0.6 in /home/chris/.local/lib/python3.8/site-packages (from spacy<3.7.0,>=3.6.0->en-core-web-lg==3.6.0) (2.0.9)\n",
            "Requirement already satisfied: thinc<8.2.0,>=8.1.8 in /home/chris/.local/lib/python3.8/site-packages (from spacy<3.7.0,>=3.6.0->en-core-web-lg==3.6.0) (8.1.12)\n",
            "Requirement already satisfied: preshed<3.1.0,>=3.0.2 in /home/chris/.local/lib/python3.8/site-packages (from spacy<3.7.0,>=3.6.0->en-core-web-lg==3.6.0) (3.0.8)\n",
            "Requirement already satisfied: murmurhash<1.1.0,>=0.28.0 in /home/chris/.local/lib/python3.8/site-packages (from spacy<3.7.0,>=3.6.0->en-core-web-lg==3.6.0) (1.0.9)\n",
            "Requirement already satisfied: numpy>=1.15.0 in /home/chris/.local/lib/python3.8/site-packages (from spacy<3.7.0,>=3.6.0->en-core-web-lg==3.6.0) (1.23.5)\n",
            "Requirement already satisfied: spacy-loggers<2.0.0,>=1.0.0 in /home/chris/.local/lib/python3.8/site-packages (from spacy<3.7.0,>=3.6.0->en-core-web-lg==3.6.0) (1.0.4)\n",
            "Requirement already satisfied: langcodes<4.0.0,>=3.2.0 in /home/chris/.local/lib/python3.8/site-packages (from spacy<3.7.0,>=3.6.0->en-core-web-lg==3.6.0) (3.3.0)\n",
            "Requirement already satisfied: spacy-legacy<3.1.0,>=3.0.11 in /home/chris/.local/lib/python3.8/site-packages (from spacy<3.7.0,>=3.6.0->en-core-web-lg==3.6.0) (3.0.12)\n",
            "Requirement already satisfied: MarkupSafe>=2.0 in /home/chris/.local/lib/python3.8/site-packages (from jinja2->spacy<3.7.0,>=3.6.0->en-core-web-lg==3.6.0) (2.1.2)\n",
            "Requirement already satisfied: annotated-types>=0.4.0 in /home/chris/.local/lib/python3.8/site-packages (from pydantic!=1.8,!=1.8.1,<3.0.0,>=1.7.4->spacy<3.7.0,>=3.6.0->en-core-web-lg==3.6.0) (0.5.0)\n",
            "Requirement already satisfied: typing-extensions>=4.6.1 in /usr/local/lib/python3.8/dist-packages (from pydantic!=1.8,!=1.8.1,<3.0.0,>=1.7.4->spacy<3.7.0,>=3.6.0->en-core-web-lg==3.6.0) (4.8.0)\n",
            "Requirement already satisfied: pydantic-core==2.4.0 in /home/chris/.local/lib/python3.8/site-packages (from pydantic!=1.8,!=1.8.1,<3.0.0,>=1.7.4->spacy<3.7.0,>=3.6.0->en-core-web-lg==3.6.0) (2.4.0)\n",
            "Requirement already satisfied: pyparsing!=3.0.5,>=2.0.2 in /home/chris/.local/lib/python3.8/site-packages (from packaging>=20.0->spacy<3.7.0,>=3.6.0->en-core-web-lg==3.6.0) (2.4.7)\n",
            "Requirement already satisfied: click<9.0.0,>=7.1.1 in /home/chris/.local/lib/python3.8/site-packages (from typer<0.10.0,>=0.3.0->spacy<3.7.0,>=3.6.0->en-core-web-lg==3.6.0) (8.1.6)\n",
            "Requirement already satisfied: urllib3<3,>=1.21.1 in /home/chris/.local/lib/python3.8/site-packages (from requests<3.0.0,>=2.13.0->spacy<3.7.0,>=3.6.0->en-core-web-lg==3.6.0) (2.0.4)\n",
            "Requirement already satisfied: certifi>=2017.4.17 in /home/chris/.local/lib/python3.8/site-packages (from requests<3.0.0,>=2.13.0->spacy<3.7.0,>=3.6.0->en-core-web-lg==3.6.0) (2022.12.7)\n",
            "Requirement already satisfied: charset-normalizer<4,>=2 in /home/chris/.local/lib/python3.8/site-packages (from requests<3.0.0,>=2.13.0->spacy<3.7.0,>=3.6.0->en-core-web-lg==3.6.0) (3.2.0)\n",
            "Requirement already satisfied: idna<4,>=2.5 in /home/chris/.local/lib/python3.8/site-packages (from requests<3.0.0,>=2.13.0->spacy<3.7.0,>=3.6.0->en-core-web-lg==3.6.0) (2.10)\n",
            "Requirement already satisfied: blis<0.8.0,>=0.7.8 in /home/chris/.local/lib/python3.8/site-packages (from thinc<8.2.0,>=8.1.8->spacy<3.7.0,>=3.6.0->en-core-web-lg==3.6.0) (0.7.10)\n",
            "Requirement already satisfied: confection<1.0.0,>=0.0.1 in /home/chris/.local/lib/python3.8/site-packages (from thinc<8.2.0,>=8.1.8->spacy<3.7.0,>=3.6.0->en-core-web-lg==3.6.0) (0.1.1)\n",
            "\u001b[38;5;2m✔ Download and installation successful\u001b[0m\n",
            "You can now load the package via spacy.load('en_core_web_lg')\n"
          ]
        }
      ],
      "source": [
        "!pip3 install spacy\n",
        "!python3 -m spacy download en_core_web_lg"
      ]
    },
    {
      "cell_type": "markdown",
      "id": "e370e98f-8dc6-47af-9f9d-08223e3b18a4",
      "metadata": {
        "id": "e370e98f-8dc6-47af-9f9d-08223e3b18a4"
      },
      "source": [
        "Также воспользуемся NLTK для обработки теста"
      ]
    },
    {
      "cell_type": "code",
      "execution_count": null,
      "id": "2f31136b-1c0e-4b3f-a7f2-d2ad3ea631b1",
      "metadata": {
        "id": "2f31136b-1c0e-4b3f-a7f2-d2ad3ea631b1",
        "outputId": "627a9bcb-1c20-4eb5-85b9-d8bb28d6001b"
      },
      "outputs": [
        {
          "name": "stderr",
          "output_type": "stream",
          "text": [
            "2023-10-27 08:06:02.690027: I tensorflow/compiler/xla/stream_executor/cuda/cuda_gpu_executor.cc:995] successful NUMA node read from SysFS had negative value (-1), but there must be at least one NUMA node, so returning NUMA node zero. See more at https://github.com/torvalds/linux/blob/v6.0/Documentation/ABI/testing/sysfs-bus-pci#L344-L355\n",
            "2023-10-27 08:06:02.690190: I tensorflow/compiler/xla/stream_executor/cuda/cuda_gpu_executor.cc:995] successful NUMA node read from SysFS had negative value (-1), but there must be at least one NUMA node, so returning NUMA node zero. See more at https://github.com/torvalds/linux/blob/v6.0/Documentation/ABI/testing/sysfs-bus-pci#L344-L355\n",
            "2023-10-27 08:06:02.690277: I tensorflow/compiler/xla/stream_executor/cuda/cuda_gpu_executor.cc:995] successful NUMA node read from SysFS had negative value (-1), but there must be at least one NUMA node, so returning NUMA node zero. See more at https://github.com/torvalds/linux/blob/v6.0/Documentation/ABI/testing/sysfs-bus-pci#L344-L355\n",
            "[nltk_data] Downloading package stopwords to /home/chris/nltk_data...\n",
            "[nltk_data]   Package stopwords is already up-to-date!\n",
            "[nltk_data] Downloading package wordnet to /home/chris/nltk_data...\n",
            "[nltk_data]   Package wordnet is already up-to-date!\n"
          ]
        }
      ],
      "source": [
        "import nltk\n",
        "import spacy\n",
        "nltk.download('stopwords')\n",
        "nltk.download('wordnet')\n",
        "nlp = spacy.load('en_core_web_lg')"
      ]
    },
    {
      "cell_type": "markdown",
      "id": "853da22b-00bd-4aa9-861c-c3a1dce48d12",
      "metadata": {
        "id": "853da22b-00bd-4aa9-861c-c3a1dce48d12"
      },
      "source": [
        "Создадим функцию для очистки текста, чтобы создать токены"
      ]
    },
    {
      "cell_type": "code",
      "execution_count": null,
      "id": "0d0bbaed-46a8-4194-9648-394d092d0cd4",
      "metadata": {
        "id": "0d0bbaed-46a8-4194-9648-394d092d0cd4"
      },
      "outputs": [],
      "source": [
        "import re\n",
        "import string\n",
        "from nltk.stem import PorterStemmer\n",
        "from nltk.stem.wordnet import WordNetLemmatizer\n",
        "\n",
        "def clean_string(text, stem=\"None\"):\n",
        "\n",
        "    final_string = \"\"\n",
        "\n",
        "    # Make lower\n",
        "    text = text.lower()\n",
        "\n",
        "    # Remove line breaks\n",
        "    text = re.sub(r'\\n', '', text)\n",
        "\n",
        "    # Remove puncuation\n",
        "    translator = str.maketrans('', '', string.punctuation)\n",
        "    text = text.translate(translator)\n",
        "\n",
        "    # Remove stop words\n",
        "    text = text.split()\n",
        "    useless_words = nltk.corpus.stopwords.words(\"english\")\n",
        "    useless_words = useless_words + ['hi', 'im']\n",
        "\n",
        "    text_filtered = [word for word in text if not word in useless_words]\n",
        "\n",
        "    # Remove numbers\n",
        "    text_filtered = [re.sub(r'\\w*\\d\\w*', '', w) for w in text_filtered]\n",
        "\n",
        "    # Stem or Lemmatize\n",
        "    if stem == 'Stem':\n",
        "        stemmer = PorterStemmer()\n",
        "        text_stemmed = [stemmer.stem(y) for y in text_filtered]\n",
        "    elif stem == 'Lem':\n",
        "        lem = WordNetLemmatizer()\n",
        "        text_stemmed = [lem.lemmatize(y) for y in text_filtered]\n",
        "    elif stem == 'Spacy':\n",
        "        text_filtered = nlp(' '.join(text_filtered))\n",
        "        text_stemmed = [y.lemma_ for y in text_filtered]\n",
        "    else:\n",
        "        text_stemmed = text_filtered\n",
        "\n",
        "    final_string = ' '.join(text_stemmed)\n",
        "\n",
        "    return final_string"
      ]
    },
    {
      "cell_type": "code",
      "execution_count": null,
      "id": "b2fe6dbe-b5be-4171-a174-6c8403f1d70c",
      "metadata": {
        "id": "b2fe6dbe-b5be-4171-a174-6c8403f1d70c"
      },
      "outputs": [],
      "source": [
        "ag_full_corpus['summary'] = ag_full_corpus.apply(lambda row: (row['title'] + '. ' + row['description']), axis=1)"
      ]
    },
    {
      "cell_type": "code",
      "execution_count": null,
      "id": "5b55f191-a299-46a5-8d3a-4f9cb66b4d2b",
      "metadata": {
        "id": "5b55f191-a299-46a5-8d3a-4f9cb66b4d2b",
        "outputId": "a5c405a7-8db4-4641-c10e-4e5335d40d4e"
      },
      "outputs": [
        {
          "data": {
            "text/html": [
              "<div>\n",
              "<style scoped>\n",
              "    .dataframe tbody tr th:only-of-type {\n",
              "        vertical-align: middle;\n",
              "    }\n",
              "\n",
              "    .dataframe tbody tr th {\n",
              "        vertical-align: top;\n",
              "    }\n",
              "\n",
              "    .dataframe thead th {\n",
              "        text-align: right;\n",
              "    }\n",
              "</style>\n",
              "<table border=\"1\" class=\"dataframe\">\n",
              "  <thead>\n",
              "    <tr style=\"text-align: right;\">\n",
              "      <th></th>\n",
              "      <th>title</th>\n",
              "      <th>description</th>\n",
              "      <th>data_set_type</th>\n",
              "      <th>tagged_docs</th>\n",
              "      <th>doc_key</th>\n",
              "      <th>class_index</th>\n",
              "      <th>class_name</th>\n",
              "      <th>number_of_keywords</th>\n",
              "      <th>summary</th>\n",
              "    </tr>\n",
              "  </thead>\n",
              "  <tbody>\n",
              "    <tr>\n",
              "      <th>0</th>\n",
              "      <td>Wall St. Bears Claw Back Into the Black (Reuters)</td>\n",
              "      <td>Reuters - Short-sellers, Wall Street's dwindli...</td>\n",
              "      <td>train</td>\n",
              "      <td>([wall, st, bears, claw, back, into, the, blac...</td>\n",
              "      <td>0</td>\n",
              "      <td>3</td>\n",
              "      <td>Business</td>\n",
              "      <td>10</td>\n",
              "      <td>Wall St. Bears Claw Back Into the Black (Reute...</td>\n",
              "    </tr>\n",
              "    <tr>\n",
              "      <th>1</th>\n",
              "      <td>Carlyle Looks Toward Commercial Aerospace (Reu...</td>\n",
              "      <td>Reuters - Private investment firm Carlyle Grou...</td>\n",
              "      <td>train</td>\n",
              "      <td>([carlyle, looks, toward, commercial, aerospac...</td>\n",
              "      <td>1</td>\n",
              "      <td>3</td>\n",
              "      <td>Business</td>\n",
              "      <td>10</td>\n",
              "      <td>Carlyle Looks Toward Commercial Aerospace (Reu...</td>\n",
              "    </tr>\n",
              "    <tr>\n",
              "      <th>2</th>\n",
              "      <td>Oil and Economy Cloud Stocks' Outlook (Reuters)</td>\n",
              "      <td>Reuters - Soaring crude prices plus worries\\ab...</td>\n",
              "      <td>train</td>\n",
              "      <td>([oil, and, economy, cloud, stocks, outlook, r...</td>\n",
              "      <td>2</td>\n",
              "      <td>3</td>\n",
              "      <td>Business</td>\n",
              "      <td>10</td>\n",
              "      <td>Oil and Economy Cloud Stocks' Outlook (Reuters...</td>\n",
              "    </tr>\n",
              "    <tr>\n",
              "      <th>3</th>\n",
              "      <td>Iraq Halts Oil Exports from Main Southern Pipe...</td>\n",
              "      <td>Reuters - Authorities have halted oil export\\f...</td>\n",
              "      <td>train</td>\n",
              "      <td>([iraq, halts, oil, exports, from, main, south...</td>\n",
              "      <td>3</td>\n",
              "      <td>3</td>\n",
              "      <td>Business</td>\n",
              "      <td>10</td>\n",
              "      <td>Iraq Halts Oil Exports from Main Southern Pipe...</td>\n",
              "    </tr>\n",
              "    <tr>\n",
              "      <th>4</th>\n",
              "      <td>Oil prices soar to all-time record, posing new...</td>\n",
              "      <td>AFP - Tearaway world oil prices, toppling reco...</td>\n",
              "      <td>train</td>\n",
              "      <td>([oil, prices, soar, to, all, time, record, po...</td>\n",
              "      <td>4</td>\n",
              "      <td>3</td>\n",
              "      <td>Business</td>\n",
              "      <td>10</td>\n",
              "      <td>Oil prices soar to all-time record, posing new...</td>\n",
              "    </tr>\n",
              "  </tbody>\n",
              "</table>\n",
              "</div>"
            ],
            "text/plain": [
              "                                               title  \\\n",
              "0  Wall St. Bears Claw Back Into the Black (Reuters)   \n",
              "1  Carlyle Looks Toward Commercial Aerospace (Reu...   \n",
              "2    Oil and Economy Cloud Stocks' Outlook (Reuters)   \n",
              "3  Iraq Halts Oil Exports from Main Southern Pipe...   \n",
              "4  Oil prices soar to all-time record, posing new...   \n",
              "\n",
              "                                         description data_set_type  \\\n",
              "0  Reuters - Short-sellers, Wall Street's dwindli...         train   \n",
              "1  Reuters - Private investment firm Carlyle Grou...         train   \n",
              "2  Reuters - Soaring crude prices plus worries\\ab...         train   \n",
              "3  Reuters - Authorities have halted oil export\\f...         train   \n",
              "4  AFP - Tearaway world oil prices, toppling reco...         train   \n",
              "\n",
              "                                         tagged_docs doc_key  class_index  \\\n",
              "0  ([wall, st, bears, claw, back, into, the, blac...       0            3   \n",
              "1  ([carlyle, looks, toward, commercial, aerospac...       1            3   \n",
              "2  ([oil, and, economy, cloud, stocks, outlook, r...       2            3   \n",
              "3  ([iraq, halts, oil, exports, from, main, south...       3            3   \n",
              "4  ([oil, prices, soar, to, all, time, record, po...       4            3   \n",
              "\n",
              "  class_name  number_of_keywords  \\\n",
              "0   Business                  10   \n",
              "1   Business                  10   \n",
              "2   Business                  10   \n",
              "3   Business                  10   \n",
              "4   Business                  10   \n",
              "\n",
              "                                             summary  \n",
              "0  Wall St. Bears Claw Back Into the Black (Reute...  \n",
              "1  Carlyle Looks Toward Commercial Aerospace (Reu...  \n",
              "2  Oil and Economy Cloud Stocks' Outlook (Reuters...  \n",
              "3  Iraq Halts Oil Exports from Main Southern Pipe...  \n",
              "4  Oil prices soar to all-time record, posing new...  "
            ]
          },
          "execution_count": 19,
          "metadata": {},
          "output_type": "execute_result"
        }
      ],
      "source": [
        "ag_full_corpus.head()"
      ]
    },
    {
      "cell_type": "code",
      "execution_count": null,
      "id": "00319630-9089-412f-8258-b9c764c426a9",
      "metadata": {
        "id": "00319630-9089-412f-8258-b9c764c426a9"
      },
      "outputs": [],
      "source": [
        "ag_full_corpus['summary_clean'] = ag_full_corpus['summary'].apply(lambda x: clean_string(x, stem='Lem'))"
      ]
    },
    {
      "cell_type": "code",
      "execution_count": null,
      "id": "1c201f87-14dd-4506-ae04-6ce4ffe2645e",
      "metadata": {
        "colab": {
          "base_uri": "https://localhost:8080/"
        },
        "id": "1c201f87-14dd-4506-ae04-6ce4ffe2645e",
        "outputId": "ef8c9fa9-ea31-4328-b6df-ec524e2d9c1c"
      },
      "outputs": [
        {
          "name": "stderr",
          "output_type": "stream",
          "text": [
            "[nltk_data] Downloading package punkt to /home/chris/nltk_data...\n",
            "[nltk_data]   Package punkt is already up-to-date!\n"
          ]
        }
      ],
      "source": [
        "nltk.download('punkt')\n",
        "from nltk.tokenize import word_tokenize"
      ]
    },
    {
      "cell_type": "code",
      "execution_count": null,
      "id": "47814973-d53b-4535-aa15-97f740ca92ac",
      "metadata": {
        "id": "47814973-d53b-4535-aa15-97f740ca92ac"
      },
      "outputs": [],
      "source": [
        "ag_full_corpus['tokens_nltk'] = ag_full_corpus['summary_clean'].apply(lambda x: word_tokenize(x))"
      ]
    },
    {
      "cell_type": "code",
      "execution_count": null,
      "id": "070f3c44-0860-40a2-8c71-996a4ee88315",
      "metadata": {
        "colab": {
          "base_uri": "https://localhost:8080/",
          "height": 414
        },
        "id": "070f3c44-0860-40a2-8c71-996a4ee88315",
        "outputId": "e206dbc3-7c9f-4785-ccba-87035d1a623c"
      },
      "outputs": [
        {
          "data": {
            "text/html": [
              "<div>\n",
              "<style scoped>\n",
              "    .dataframe tbody tr th:only-of-type {\n",
              "        vertical-align: middle;\n",
              "    }\n",
              "\n",
              "    .dataframe tbody tr th {\n",
              "        vertical-align: top;\n",
              "    }\n",
              "\n",
              "    .dataframe thead th {\n",
              "        text-align: right;\n",
              "    }\n",
              "</style>\n",
              "<table border=\"1\" class=\"dataframe\">\n",
              "  <thead>\n",
              "    <tr style=\"text-align: right;\">\n",
              "      <th></th>\n",
              "      <th>title</th>\n",
              "      <th>description</th>\n",
              "      <th>data_set_type</th>\n",
              "      <th>tagged_docs</th>\n",
              "      <th>doc_key</th>\n",
              "      <th>class_index</th>\n",
              "      <th>class_name</th>\n",
              "      <th>number_of_keywords</th>\n",
              "      <th>summary</th>\n",
              "      <th>summary_clean</th>\n",
              "      <th>tokens_nltk</th>\n",
              "    </tr>\n",
              "  </thead>\n",
              "  <tbody>\n",
              "    <tr>\n",
              "      <th>0</th>\n",
              "      <td>Wall St. Bears Claw Back Into the Black (Reuters)</td>\n",
              "      <td>Reuters - Short-sellers, Wall Street's dwindli...</td>\n",
              "      <td>train</td>\n",
              "      <td>([wall, st, bears, claw, back, into, the, blac...</td>\n",
              "      <td>0</td>\n",
              "      <td>3</td>\n",
              "      <td>Business</td>\n",
              "      <td>10</td>\n",
              "      <td>Wall St. Bears Claw Back Into the Black (Reute...</td>\n",
              "      <td>wall st bear claw back black reuters reuters s...</td>\n",
              "      <td>[wall, st, bear, claw, back, black, reuters, r...</td>\n",
              "    </tr>\n",
              "    <tr>\n",
              "      <th>1</th>\n",
              "      <td>Carlyle Looks Toward Commercial Aerospace (Reu...</td>\n",
              "      <td>Reuters - Private investment firm Carlyle Grou...</td>\n",
              "      <td>train</td>\n",
              "      <td>([carlyle, looks, toward, commercial, aerospac...</td>\n",
              "      <td>1</td>\n",
              "      <td>3</td>\n",
              "      <td>Business</td>\n",
              "      <td>10</td>\n",
              "      <td>Carlyle Looks Toward Commercial Aerospace (Reu...</td>\n",
              "      <td>carlyle look toward commercial aerospace reute...</td>\n",
              "      <td>[carlyle, look, toward, commercial, aerospace,...</td>\n",
              "    </tr>\n",
              "    <tr>\n",
              "      <th>2</th>\n",
              "      <td>Oil and Economy Cloud Stocks' Outlook (Reuters)</td>\n",
              "      <td>Reuters - Soaring crude prices plus worries\\ab...</td>\n",
              "      <td>train</td>\n",
              "      <td>([oil, and, economy, cloud, stocks, outlook, r...</td>\n",
              "      <td>2</td>\n",
              "      <td>3</td>\n",
              "      <td>Business</td>\n",
              "      <td>10</td>\n",
              "      <td>Oil and Economy Cloud Stocks' Outlook (Reuters...</td>\n",
              "      <td>oil economy cloud stock outlook reuters reuter...</td>\n",
              "      <td>[oil, economy, cloud, stock, outlook, reuters,...</td>\n",
              "    </tr>\n",
              "    <tr>\n",
              "      <th>3</th>\n",
              "      <td>Iraq Halts Oil Exports from Main Southern Pipe...</td>\n",
              "      <td>Reuters - Authorities have halted oil export\\f...</td>\n",
              "      <td>train</td>\n",
              "      <td>([iraq, halts, oil, exports, from, main, south...</td>\n",
              "      <td>3</td>\n",
              "      <td>3</td>\n",
              "      <td>Business</td>\n",
              "      <td>10</td>\n",
              "      <td>Iraq Halts Oil Exports from Main Southern Pipe...</td>\n",
              "      <td>iraq halt oil export main southern pipeline re...</td>\n",
              "      <td>[iraq, halt, oil, export, main, southern, pipe...</td>\n",
              "    </tr>\n",
              "    <tr>\n",
              "      <th>4</th>\n",
              "      <td>Oil prices soar to all-time record, posing new...</td>\n",
              "      <td>AFP - Tearaway world oil prices, toppling reco...</td>\n",
              "      <td>train</td>\n",
              "      <td>([oil, prices, soar, to, all, time, record, po...</td>\n",
              "      <td>4</td>\n",
              "      <td>3</td>\n",
              "      <td>Business</td>\n",
              "      <td>10</td>\n",
              "      <td>Oil prices soar to all-time record, posing new...</td>\n",
              "      <td>oil price soar alltime record posing new menac...</td>\n",
              "      <td>[oil, price, soar, alltime, record, posing, ne...</td>\n",
              "    </tr>\n",
              "  </tbody>\n",
              "</table>\n",
              "</div>"
            ],
            "text/plain": [
              "                                               title  \\\n",
              "0  Wall St. Bears Claw Back Into the Black (Reuters)   \n",
              "1  Carlyle Looks Toward Commercial Aerospace (Reu...   \n",
              "2    Oil and Economy Cloud Stocks' Outlook (Reuters)   \n",
              "3  Iraq Halts Oil Exports from Main Southern Pipe...   \n",
              "4  Oil prices soar to all-time record, posing new...   \n",
              "\n",
              "                                         description data_set_type  \\\n",
              "0  Reuters - Short-sellers, Wall Street's dwindli...         train   \n",
              "1  Reuters - Private investment firm Carlyle Grou...         train   \n",
              "2  Reuters - Soaring crude prices plus worries\\ab...         train   \n",
              "3  Reuters - Authorities have halted oil export\\f...         train   \n",
              "4  AFP - Tearaway world oil prices, toppling reco...         train   \n",
              "\n",
              "                                         tagged_docs doc_key  class_index  \\\n",
              "0  ([wall, st, bears, claw, back, into, the, blac...       0            3   \n",
              "1  ([carlyle, looks, toward, commercial, aerospac...       1            3   \n",
              "2  ([oil, and, economy, cloud, stocks, outlook, r...       2            3   \n",
              "3  ([iraq, halts, oil, exports, from, main, south...       3            3   \n",
              "4  ([oil, prices, soar, to, all, time, record, po...       4            3   \n",
              "\n",
              "  class_name  number_of_keywords  \\\n",
              "0   Business                  10   \n",
              "1   Business                  10   \n",
              "2   Business                  10   \n",
              "3   Business                  10   \n",
              "4   Business                  10   \n",
              "\n",
              "                                             summary  \\\n",
              "0  Wall St. Bears Claw Back Into the Black (Reute...   \n",
              "1  Carlyle Looks Toward Commercial Aerospace (Reu...   \n",
              "2  Oil and Economy Cloud Stocks' Outlook (Reuters...   \n",
              "3  Iraq Halts Oil Exports from Main Southern Pipe...   \n",
              "4  Oil prices soar to all-time record, posing new...   \n",
              "\n",
              "                                       summary_clean  \\\n",
              "0  wall st bear claw back black reuters reuters s...   \n",
              "1  carlyle look toward commercial aerospace reute...   \n",
              "2  oil economy cloud stock outlook reuters reuter...   \n",
              "3  iraq halt oil export main southern pipeline re...   \n",
              "4  oil price soar alltime record posing new menac...   \n",
              "\n",
              "                                         tokens_nltk  \n",
              "0  [wall, st, bear, claw, back, black, reuters, r...  \n",
              "1  [carlyle, look, toward, commercial, aerospace,...  \n",
              "2  [oil, economy, cloud, stock, outlook, reuters,...  \n",
              "3  [iraq, halt, oil, export, main, southern, pipe...  \n",
              "4  [oil, price, soar, alltime, record, posing, ne...  "
            ]
          },
          "execution_count": 23,
          "metadata": {},
          "output_type": "execute_result"
        }
      ],
      "source": [
        "df_clean = ag_full_corpus\n",
        "df_clean.head()"
      ]
    },
    {
      "cell_type": "markdown",
      "id": "be738769-4ce5-4d5c-b7b3-727e00dc7cee",
      "metadata": {
        "id": "be738769-4ce5-4d5c-b7b3-727e00dc7cee"
      },
      "source": [
        "Загрузим БЕРТ"
      ]
    },
    {
      "cell_type": "code",
      "execution_count": null,
      "id": "e6b64363-e6fb-4645-9807-fd720625d2fc",
      "metadata": {
        "id": "e6b64363-e6fb-4645-9807-fd720625d2fc",
        "outputId": "103ba49e-b251-4e9d-b433-cc387d51f589"
      },
      "outputs": [
        {
          "name": "stdout",
          "output_type": "stream",
          "text": [
            "Requirement already satisfied: transformers in /home/chris/.local/lib/python3.8/site-packages (4.33.1)\n",
            "Requirement already satisfied: tqdm>=4.27 in /home/chris/.local/lib/python3.8/site-packages (from transformers) (4.65.0)\n",
            "Requirement already satisfied: filelock in /home/chris/.local/lib/python3.8/site-packages (from transformers) (3.9.0)\n",
            "Requirement already satisfied: numpy>=1.17 in /home/chris/.local/lib/python3.8/site-packages (from transformers) (1.23.5)\n",
            "Requirement already satisfied: tokenizers!=0.11.3,<0.14,>=0.11.1 in /home/chris/.local/lib/python3.8/site-packages (from transformers) (0.13.3)\n",
            "Requirement already satisfied: regex!=2019.12.17 in /home/chris/.local/lib/python3.8/site-packages (from transformers) (2023.8.8)\n",
            "Requirement already satisfied: requests in /home/chris/.local/lib/python3.8/site-packages (from transformers) (2.31.0)\n",
            "Requirement already satisfied: safetensors>=0.3.1 in /home/chris/.local/lib/python3.8/site-packages (from transformers) (0.3.3)\n",
            "Requirement already satisfied: packaging>=20.0 in /home/chris/.local/lib/python3.8/site-packages (from transformers) (21.3)\n",
            "Requirement already satisfied: huggingface-hub<1.0,>=0.15.1 in /home/chris/.local/lib/python3.8/site-packages (from transformers) (0.17.1)\n",
            "Requirement already satisfied: pyyaml>=5.1 in /home/chris/.local/lib/python3.8/site-packages (from transformers) (6.0)\n",
            "Requirement already satisfied: urllib3<3,>=1.21.1 in /home/chris/.local/lib/python3.8/site-packages (from requests->transformers) (2.0.4)\n",
            "Requirement already satisfied: charset-normalizer<4,>=2 in /home/chris/.local/lib/python3.8/site-packages (from requests->transformers) (3.2.0)\n",
            "Requirement already satisfied: certifi>=2017.4.17 in /home/chris/.local/lib/python3.8/site-packages (from requests->transformers) (2022.12.7)\n",
            "Requirement already satisfied: idna<4,>=2.5 in /home/chris/.local/lib/python3.8/site-packages (from requests->transformers) (2.10)\n",
            "Requirement already satisfied: pyparsing!=3.0.5,>=2.0.2 in /home/chris/.local/lib/python3.8/site-packages (from packaging>=20.0->transformers) (2.4.7)\n",
            "Requirement already satisfied: typing-extensions>=3.7.4.3 in /usr/local/lib/python3.8/dist-packages (from huggingface-hub<1.0,>=0.15.1->transformers) (4.8.0)\n",
            "Requirement already satisfied: fsspec in /home/chris/.local/lib/python3.8/site-packages (from huggingface-hub<1.0,>=0.15.1->transformers) (2023.9.0)\n"
          ]
        }
      ],
      "source": [
        "!pip3 install transformers"
      ]
    },
    {
      "cell_type": "code",
      "execution_count": null,
      "id": "e0a3e97b-690a-40ef-b322-e4b8a7230459",
      "metadata": {
        "id": "e0a3e97b-690a-40ef-b322-e4b8a7230459",
        "outputId": "dc1f0d7c-82f8-44c4-c8b3-4570cc0593be"
      },
      "outputs": [
        {
          "name": "stderr",
          "output_type": "stream",
          "text": [
            "2023-10-26 13:28:30.247701: I tensorflow/compiler/xla/stream_executor/cuda/cuda_gpu_executor.cc:995] successful NUMA node read from SysFS had negative value (-1), but there must be at least one NUMA node, so returning NUMA node zero. See more at https://github.com/torvalds/linux/blob/v6.0/Documentation/ABI/testing/sysfs-bus-pci#L344-L355\n",
            "2023-10-26 13:28:30.247929: I tensorflow/compiler/xla/stream_executor/cuda/cuda_gpu_executor.cc:995] successful NUMA node read from SysFS had negative value (-1), but there must be at least one NUMA node, so returning NUMA node zero. See more at https://github.com/torvalds/linux/blob/v6.0/Documentation/ABI/testing/sysfs-bus-pci#L344-L355\n",
            "2023-10-26 13:28:30.248044: I tensorflow/compiler/xla/stream_executor/cuda/cuda_gpu_executor.cc:995] successful NUMA node read from SysFS had negative value (-1), but there must be at least one NUMA node, so returning NUMA node zero. See more at https://github.com/torvalds/linux/blob/v6.0/Documentation/ABI/testing/sysfs-bus-pci#L344-L355\n",
            "2023-10-26 13:28:30.248202: I tensorflow/compiler/xla/stream_executor/cuda/cuda_gpu_executor.cc:995] successful NUMA node read from SysFS had negative value (-1), but there must be at least one NUMA node, so returning NUMA node zero. See more at https://github.com/torvalds/linux/blob/v6.0/Documentation/ABI/testing/sysfs-bus-pci#L344-L355\n",
            "2023-10-26 13:28:30.248309: I tensorflow/compiler/xla/stream_executor/cuda/cuda_gpu_executor.cc:995] successful NUMA node read from SysFS had negative value (-1), but there must be at least one NUMA node, so returning NUMA node zero. See more at https://github.com/torvalds/linux/blob/v6.0/Documentation/ABI/testing/sysfs-bus-pci#L344-L355\n",
            "2023-10-26 13:28:30.248392: I tensorflow/core/common_runtime/gpu/gpu_device.cc:1639] Created device /job:localhost/replica:0/task:0/device:GPU:0 with 2114 MB memory:  -> device: 0, name: NVIDIA GeForce RTX 3050 Laptop GPU, pci bus id: 0000:01:00.0, compute capability: 8.6\n",
            "2023-10-26 13:28:31.687810: I tensorflow/compiler/xla/stream_executor/cuda/cuda_blas.cc:606] TensorFloat-32 will be used for the matrix multiplication. This will only be logged once.\n",
            "Some weights of the PyTorch model were not used when initializing the TF 2.0 model TFBertModel: ['cls.predictions.transform.dense.bias', 'cls.seq_relationship.bias', 'cls.predictions.bias', 'cls.predictions.transform.dense.weight', 'cls.predictions.transform.LayerNorm.bias', 'cls.seq_relationship.weight', 'cls.predictions.transform.LayerNorm.weight']\n",
            "- This IS expected if you are initializing TFBertModel from a PyTorch model trained on another task or with another architecture (e.g. initializing a TFBertForSequenceClassification model from a BertForPreTraining model).\n",
            "- This IS NOT expected if you are initializing TFBertModel from a PyTorch model that you expect to be exactly identical (e.g. initializing a TFBertForSequenceClassification model from a BertForSequenceClassification model).\n",
            "All the weights of TFBertModel were initialized from the PyTorch model.\n",
            "If your task is similar to the task the model of the checkpoint was trained on, you can already use TFBertModel for predictions without further training.\n"
          ]
        }
      ],
      "source": [
        "import transformers\n",
        "## bert tokenizer\n",
        "tokenizer = transformers.BertTokenizer.from_pretrained('bert-base-uncased', do_lower_case=True)\n",
        "## bert model\n",
        "nlp_bert = transformers.TFBertModel.from_pretrained('bert-base-uncased')"
      ]
    },
    {
      "cell_type": "code",
      "execution_count": null,
      "id": "31d83bf2-9a7c-4396-bda2-1843b89c0863",
      "metadata": {
        "id": "31d83bf2-9a7c-4396-bda2-1843b89c0863"
      },
      "outputs": [],
      "source": [
        "## function to apply\n",
        "def utils_bert_embedding(txt, tokenizer, nlp):\n",
        "    '''\n",
        "    Word embedding with Bert (equivalent to nlp[\"word\"]).\n",
        "    :parameter\n",
        "        :param txt: string\n",
        "        :param tokenizer: transformers tokenizer\n",
        "        :param nlp: transformers bert\n",
        "    :return\n",
        "        tensor sentences x words x vector (1x3x768)\n",
        "    '''\n",
        "    # tokenize sentence to tokens (integers)\n",
        "    idx = tokenizer.encode(txt)\n",
        "    # convert to array of shape (1, num_words+2) - EOS and CLS added\n",
        "    idx = np.array(idx)[None,:]\n",
        "    # generate embeddings for each token - output is a tuple\n",
        "    embedding = nlp(idx)\n",
        "    # select first member of the tuple, remove first dimension which is 1 to get (num_words,embedding size 712)\n",
        "    # exclude CLS and EOS tokens\n",
        "    X = np.array(embedding[0][0][1:-1])\n",
        "    return X"
      ]
    },
    {
      "cell_type": "code",
      "execution_count": null,
      "id": "d4d57bf6-d494-48c3-b67b-b2cd90bb8a6f",
      "metadata": {
        "id": "d4d57bf6-d494-48c3-b67b-b2cd90bb8a6f",
        "outputId": "a81b5b64-1c24-43f1-d2c6-43c424386439"
      },
      "outputs": [
        {
          "name": "stderr",
          "output_type": "stream",
          "text": [
            "100%|█████████████████████████████████| 127600/127600 [3:10:18<00:00, 11.17it/s]"
          ]
        },
        {
          "name": "stdout",
          "output_type": "stream",
          "text": [
            "CPU times: user 3h 8min 28s, sys: 1min 2s, total: 3h 9min 31s\n",
            "Wall time: 3h 10min 18s\n"
          ]
        },
        {
          "name": "stderr",
          "output_type": "stream",
          "text": [
            "\n"
          ]
        }
      ],
      "source": [
        "%%time\n",
        "from tqdm import tqdm\n",
        "## create list of news vector\n",
        "lst_mean_vecs = [utils_bert_embedding(txt, tokenizer, nlp_bert).mean(0) for txt in tqdm(df_clean[\"summary_clean\"])]"
      ]
    },
    {
      "cell_type": "code",
      "execution_count": null,
      "id": "822559b7-2933-4139-9d67-b78c670b3aef",
      "metadata": {
        "id": "822559b7-2933-4139-9d67-b78c670b3aef",
        "outputId": "1eebdec5-64fd-411d-b0c8-1bcfebb820cb"
      },
      "outputs": [
        {
          "data": {
            "text/plain": [
              "(127600, 768)"
            ]
          },
          "execution_count": 52,
          "metadata": {},
          "output_type": "execute_result"
        }
      ],
      "source": [
        "X = np.array(lst_mean_vecs)\n",
        "X.shape"
      ]
    },
    {
      "cell_type": "code",
      "execution_count": null,
      "id": "ae4c1e16-48f9-4f2a-97a4-f9aa3cffab97",
      "metadata": {
        "id": "ae4c1e16-48f9-4f2a-97a4-f9aa3cffab97"
      },
      "outputs": [],
      "source": [
        "np.save('data_sum_new.npy', X)"
      ]
    },
    {
      "cell_type": "code",
      "execution_count": null,
      "id": "93917ff0-10eb-4360-a3d2-6b0b898dc9b4",
      "metadata": {
        "id": "93917ff0-10eb-4360-a3d2-6b0b898dc9b4"
      },
      "outputs": [],
      "source": [
        "X = np.load('data_sum_new.npy')"
      ]
    },
    {
      "cell_type": "code",
      "execution_count": null,
      "id": "936ffbb5-410e-4e34-913c-555d5ba8ecea",
      "metadata": {
        "id": "936ffbb5-410e-4e34-913c-555d5ba8ecea",
        "outputId": "d86d81c0-a9af-418c-eef5-0096acc901e2"
      },
      "outputs": [
        {
          "data": {
            "text/html": [
              "<div>\n",
              "<style scoped>\n",
              "    .dataframe tbody tr th:only-of-type {\n",
              "        vertical-align: middle;\n",
              "    }\n",
              "\n",
              "    .dataframe tbody tr th {\n",
              "        vertical-align: top;\n",
              "    }\n",
              "\n",
              "    .dataframe thead th {\n",
              "        text-align: right;\n",
              "    }\n",
              "</style>\n",
              "<table border=\"1\" class=\"dataframe\">\n",
              "  <thead>\n",
              "    <tr style=\"text-align: right;\">\n",
              "      <th></th>\n",
              "      <th>class_index</th>\n",
              "      <th>class_name</th>\n",
              "      <th>keywords</th>\n",
              "      <th>number_of_keywords</th>\n",
              "    </tr>\n",
              "  </thead>\n",
              "  <tbody>\n",
              "    <tr>\n",
              "      <th>0</th>\n",
              "      <td>1</td>\n",
              "      <td>World</td>\n",
              "      <td>[election, state, president, police, politics,...</td>\n",
              "      <td>11</td>\n",
              "    </tr>\n",
              "    <tr>\n",
              "      <th>1</th>\n",
              "      <td>2</td>\n",
              "      <td>Sports</td>\n",
              "      <td>[olympic, football, sport, league, baseball, r...</td>\n",
              "      <td>32</td>\n",
              "    </tr>\n",
              "    <tr>\n",
              "      <th>2</th>\n",
              "      <td>3</td>\n",
              "      <td>Business</td>\n",
              "      <td>[company, market, oil, consumers, exchange, bu...</td>\n",
              "      <td>10</td>\n",
              "    </tr>\n",
              "    <tr>\n",
              "      <th>3</th>\n",
              "      <td>4</td>\n",
              "      <td>Science/Technology</td>\n",
              "      <td>[laboratory, computers, science, technology, w...</td>\n",
              "      <td>18</td>\n",
              "    </tr>\n",
              "  </tbody>\n",
              "</table>\n",
              "</div>"
            ],
            "text/plain": [
              "   class_index          class_name  \\\n",
              "0            1               World   \n",
              "1            2              Sports   \n",
              "2            3            Business   \n",
              "3            4  Science/Technology   \n",
              "\n",
              "                                            keywords  number_of_keywords  \n",
              "0  [election, state, president, police, politics,...                  11  \n",
              "1  [olympic, football, sport, league, baseball, r...                  32  \n",
              "2  [company, market, oil, consumers, exchange, bu...                  10  \n",
              "3  [laboratory, computers, science, technology, w...                  18  "
            ]
          },
          "execution_count": 55,
          "metadata": {},
          "output_type": "execute_result"
        }
      ],
      "source": [
        "labels.head()"
      ]
    },
    {
      "cell_type": "code",
      "execution_count": null,
      "id": "1f5efe55-d71a-43b1-8cb5-aa3ef2aa6c0c",
      "metadata": {
        "id": "1f5efe55-d71a-43b1-8cb5-aa3ef2aa6c0c"
      },
      "outputs": [],
      "source": [
        "dic_clusters = labels.set_index('class_name')['keywords'].to_dict()"
      ]
    },
    {
      "cell_type": "code",
      "execution_count": null,
      "id": "d99b11e1-b27e-4413-859d-2fc7e7d26db9",
      "metadata": {
        "id": "d99b11e1-b27e-4413-859d-2fc7e7d26db9",
        "outputId": "a0f8df04-c423-4b67-ee7f-193dfaf7b4b7"
      },
      "outputs": [
        {
          "name": "stderr",
          "output_type": "stream",
          "text": [
            "100%|█████████████████████████████████████████████| 4/4 [00:00<00:00,  6.52it/s]\n"
          ]
        }
      ],
      "source": [
        "from tqdm import tqdm\n",
        "dic_y = {k:utils_bert_embedding(v, tokenizer, nlp_bert).mean(0) for k,v in tqdm(dic_clusters.items())}"
      ]
    },
    {
      "cell_type": "code",
      "execution_count": null,
      "id": "ae2823b4-d2a1-4e1d-9b90-9f70be373cbf",
      "metadata": {
        "id": "ae2823b4-d2a1-4e1d-9b90-9f70be373cbf"
      },
      "outputs": [],
      "source": [
        "def fix_NAN_inf_values(x):\n",
        "    '''Replace NaN with zero and infinity with large finite numbers'''\n",
        "    if np.isnan(x).any():\n",
        "        return np.nan_to_num(x)\n",
        "    else:\n",
        "        return x"
      ]
    },
    {
      "cell_type": "code",
      "execution_count": null,
      "id": "d8c1bfa1-f84a-4b3a-b963-cccf85c3ac97",
      "metadata": {
        "id": "d8c1bfa1-f84a-4b3a-b963-cccf85c3ac97",
        "outputId": "dd608607-aaad-4648-928b-08d63ecd9d21"
      },
      "outputs": [
        {
          "name": "stdout",
          "output_type": "stream",
          "text": [
            "(127600, 4)\n"
          ]
        }
      ],
      "source": [
        "from sklearn import metrics\n",
        "\n",
        "similarities = np.array([metrics.pairwise.cosine_similarity(fix_NAN_inf_values(X), y.reshape(1,-1)).T.tolist()[0] for y in dic_y.values()]).T\n",
        "print(similarities.shape)\n",
        "\n",
        "## adjust and rescale\n",
        "labels = list(dic_y.keys())\n",
        "for i in range(len(similarities)):\n",
        "    ### assign randomly if there is no similarity   ###############################################################################################################\n",
        "    if sum(similarities[i]) == 0:\n",
        "        similarities[i] = [0]*len(labels)\n",
        "        similarities[i][np.random.choice(range(len(labels)))] = 1\n",
        "    ### rescale so they sum = 1\n",
        "    similarities[i] = similarities[i] / sum(similarities[i])\n",
        "\n",
        "## classify the label with highest similarity score\n",
        "predicted_prob = similarities\n",
        "predicted = [labels[np.argmax(pred)] for pred in predicted_prob]"
      ]
    },
    {
      "cell_type": "code",
      "execution_count": null,
      "id": "966dc602-cbfc-43e6-b0b7-d5353730a843",
      "metadata": {
        "id": "966dc602-cbfc-43e6-b0b7-d5353730a843",
        "outputId": "f8ee8a61-0f39-49b0-d887-71a6f7f5263b"
      },
      "outputs": [
        {
          "name": "stdout",
          "output_type": "stream",
          "text": [
            "Unique classes in y_test: ['Business' 'Science/Technology' 'Sports' 'World']\n",
            "Shape of predicted_prob: (127600, 4)\n",
            "Accuracy: 0.72\n",
            "Auc: 0.31\n",
            "Detail:\n",
            "                    precision    recall  f1-score   support\n",
            "\n",
            "          Business       0.61      0.63      0.62     31900\n",
            "Science/Technology       0.70      0.72      0.71     31900\n",
            "            Sports       0.80      0.80      0.80     31900\n",
            "             World       0.79      0.75      0.77     31900\n",
            "\n",
            "          accuracy                           0.72    127600\n",
            "         macro avg       0.73      0.72      0.72    127600\n",
            "      weighted avg       0.73      0.72      0.72    127600\n",
            "\n"
          ]
        },
        {
          "data": {
            "image/png": "[encoded data removed]",
            "text/plain": [
              "<Figure size 1000x1000 with 1 Axes>"
            ]
          },
          "metadata": {},
          "output_type": "display_data"
        },
        {
          "data": {
            "image/png": "[encoded data removed]",
            "text/plain": [
              "<Figure size 2000x1000 with 2 Axes>"
            ]
          },
          "metadata": {},
          "output_type": "display_data"
        }
      ],
      "source": [
        "y_test = ag_full_corpus['class_name'].values\n",
        "classes = np.unique(y_test)\n",
        "y_test_array = pd.get_dummies(y_test, drop_first=False).values\n",
        "\n",
        "## Accuracy, Precision, Recall\n",
        "accuracy = metrics.accuracy_score(y_test, predicted)\n",
        "print(\"Unique classes in y_test:\", np.unique(y_test))\n",
        "print(\"Shape of predicted_prob:\", predicted_prob.shape)\n",
        "auc = metrics.roc_auc_score(y_test, predicted_prob, multi_class=\"ovr\")\n",
        "print(\"Accuracy:\",  round(accuracy,2))\n",
        "print(\"Auc:\", round(auc,2))\n",
        "print(\"Detail:\")\n",
        "print(metrics.classification_report(y_test, predicted))\n",
        "\n",
        "## Plot confusion matrix\n",
        "cm = metrics.confusion_matrix(y_test, predicted)\n",
        "\n",
        "fig, ax = plt.subplots(figsize=(10,10))\n",
        "sns.heatmap(cm, annot=True, fmt='d', ax=ax, cmap=plt.cm.Blues, cbar=False)\n",
        "ax.set(xlabel=\"Pred\", ylabel=\"True\", xticklabels=classes, yticklabels=classes, title=\"Confusion matrix\")\n",
        "plt.yticks(rotation=0)\n",
        "\n",
        "fig, ax = plt.subplots(nrows=1, ncols=2,figsize=(20,10))\n",
        "## Plot roc\n",
        "for i in range(len(classes)):\n",
        "    fpr, tpr, thresholds = metrics.roc_curve(y_test_array[:,i], predicted_prob[:,i])\n",
        "    ax[0].plot(fpr, tpr, lw=3,  label='{0} (area={1:0.2f})'.format(classes[i], metrics.auc(fpr, tpr)))\n",
        "ax[0].plot([0,1], [0,1], color='navy', lw=3, linestyle='--')\n",
        "ax[0].set(xlim=[-0.05,1.0], ylim=[0.0,1.05],\n",
        "          xlabel='False Positive Rate',\n",
        "          ylabel=\"True Positive Rate (Recall)\",\n",
        "          title=\"Receiver operating characteristic\")\n",
        "ax[0].legend(loc=\"lower right\")\n",
        "ax[0].grid(True)\n",
        "\n",
        "## Plot precision-recall curve\n",
        "for i in range(len(classes)):\n",
        "    precision, recall, thresholds = metrics.precision_recall_curve(y_test_array[:,i], predicted_prob[:,i])\n",
        "    ax[1].plot(recall, precision, lw=3, label='{0} (area={1:0.2f})'.format(classes[i], metrics.auc(recall, precision)))\n",
        "ax[1].set(xlim=[0.0,1.05], ylim=[0.0,1.05], xlabel='Recall', ylabel=\"Precision\", title=\"Precision-Recall curve\")\n",
        "ax[1].legend(loc=\"best\")\n",
        "ax[1].grid(True)\n",
        "plt.show()"
      ]
    },
    {
      "cell_type": "markdown",
      "source": [
        "# Нахождение дубликатов"
      ],
      "metadata": {
        "id": "-0Ru96Z3_0tB"
      },
      "id": "-0Ru96Z3_0tB"
    },
    {
      "cell_type": "markdown",
      "id": "1a20c111-ab31-4753-aa16-faab8b9935ed",
      "metadata": {
        "id": "1a20c111-ab31-4753-aa16-faab8b9935ed"
      },
      "source": [
        "Теперь найдем дубликаты"
      ]
    },
    {
      "cell_type": "code",
      "execution_count": null,
      "id": "f8bdafd5-3907-4700-8459-80a6070424dd",
      "metadata": {
        "id": "f8bdafd5-3907-4700-8459-80a6070424dd"
      },
      "outputs": [],
      "source": [
        "from gensim.models import Word2Vec, KeyedVectors, FastText\n",
        "from keras.models import Sequential\n",
        "from keras.layers import Dense, LSTM, Embedding, Flatten, SimpleRNN, RNN,GRU, SpatialDropout1D, Dropout\n",
        "from keras.preprocessing.sequence import pad_sequences"
      ]
    },
    {
      "cell_type": "markdown",
      "id": "95e9098d-70e3-4632-b78a-04c4acec9f8a",
      "metadata": {
        "id": "95e9098d-70e3-4632-b78a-04c4acec9f8a"
      },
      "source": [
        "FastText - это расширение для Word2Vec, предложенное компанией Facebook в 2016 году. Вместо того чтобы подавать отдельные слова на вход нейронной сети, FastText разбивает слова на несколько n-граммов (подслов). Например, для слова \"apple\" триграммы будут \"app\", \"ppl\" и \"ple\" (игнорируя начало и конец границ слов). Вектор вложения слова для \"apple\" будет суммой всех этих n-граммов. После обучения нейронной сети у нас будут векторы вложения слов для всех n-граммов из обучающего набора данных. Редкие слова теперь могут быть правильно представлены, так как весьма вероятно, что некоторые из их n-граммов также встречаются в других словах."
      ]
    },
    {
      "cell_type": "code",
      "execution_count": null,
      "id": "df57238b-f398-4276-a273-f31ee425b791",
      "metadata": {
        "id": "df57238b-f398-4276-a273-f31ee425b791",
        "outputId": "ce12bd31-6ead-4afe-a9f7-818ffe8807a7"
      },
      "outputs": [
        {
          "name": "stdout",
          "output_type": "stream",
          "text": [
            "Requirement already satisfied: cython in /home/chris/.local/lib/python3.8/site-packages (3.0.2)\n",
            "Requirement already satisfied: fasttext in /home/chris/.local/lib/python3.8/site-packages (0.9.2)\n",
            "Requirement already satisfied: setuptools>=0.7.0 in /usr/lib/python3/dist-packages (from fasttext) (45.2.0)\n",
            "Requirement already satisfied: numpy in /home/chris/.local/lib/python3.8/site-packages (from fasttext) (1.23.5)\n",
            "Requirement already satisfied: pybind11>=2.2 in /home/chris/.local/lib/python3.8/site-packages (from fasttext) (2.11.1)\n"
          ]
        }
      ],
      "source": [
        "!pip3 install cython\n",
        "!pip3 install fasttext"
      ]
    },
    {
      "cell_type": "code",
      "execution_count": null,
      "id": "94e66c7d-821f-413e-8df9-d00562b8b3a2",
      "metadata": {
        "id": "94e66c7d-821f-413e-8df9-d00562b8b3a2",
        "outputId": "5f39ad3c-4889-49aa-bee7-8a25623bbeb7"
      },
      "outputs": [
        {
          "name": "stdout",
          "output_type": "stream",
          "text": [
            "Downloading https://dl.fbaipublicfiles.com/fasttext/vectors-crawl/cc.en.300.bin.gz\n",
            " (0.54%) [>                                                  ]>                                                  ]>                                                  ]>                                                  ]>                                                  ]>                                                  ]>                                                  ]>                                                  ]>                                                  ]>                                                  ]>                                                  ]>                                                  ]>                                                  ]>                                                  ]>                                                  ]>                                                  ]>                                                  ]>                                                  ]>                                                  ]>                                                  ]>                                                  ]>                                                  ]>                                                  ]>                                                  ]>                                                  ]>                                                  ]>                                                  ]\r"
          ]
        },
        {
          "name": "stderr",
          "output_type": "stream",
          "text": [
            "IOPub message rate exceeded.\n",
            "The Jupyter server will temporarily stop sending output\n",
            "to the client in order to avoid crashing it.\n",
            "To change this limit, set the config variable\n",
            "`--ServerApp.iopub_msg_rate_limit`.\n",
            "\n",
            "Current values:\n",
            "ServerApp.iopub_msg_rate_limit=1000.0 (msgs/sec)\n",
            "ServerApp.rate_limit_window=3.0 (secs)\n",
            "\n"
          ]
        },
        {
          "name": "stdout",
          "output_type": "stream",
          "text": [
            " (1.73%) [>                                                  ]>                                                  ]>                                                  ]>                                                  ]>                                                  ]>                                                  ]>                                                  ]>                                                  ]>                                                  ]>                                                  ]>                                                  ]>                                                  ]>                                                  ]>                                                  ]>                                                  ]>                                                  ]>                                                  ]>                                                  ]>                                                  ]>                                                  ]>                                                  ]>                                                  ]>                                                  ]>                                                  ]>                                                  ]>                                                  ]>                                                  ]>                                                  ]>                                                  ]>                                                  ]>                                                  ]>                                                  ]>                                                  ]>                                                  ]>                                                  ]>                                                  ]>                                                  ]>                                                  ]>                                                  ]>                                                  ]>                                                  ]>                                                  ]>                                                  ]>                                                  ]>                                                  ]>                                                  ]>                                                  ]>                                                  ]>                                                  ]>                                                  ]>                                                  ]>                                                  ]>                                                  ]>                                                  ]>                                                  ]>                                                  ]>                                                  ]>                                                  ]>                                                  ]>                                                  ]>                                                  ]>                                                  ]>                                                  ]>                                                  ]>                                                  ]>                                                  ]>                                                  ]>                                                  ]>                                                  ]>                                                  ]>                                                  ]>                                                  ]>                                                  ]>                                                  ]>                                                  ]>                                                  ]>                                                  ]>                                                  ]>                                                  ]>                                                  ]>                                                  ]>                                                  ]>                                                  ]>                                                  ]>                                                  ]\r"
          ]
        },
        {
          "name": "stderr",
          "output_type": "stream",
          "text": [
            "IOPub message rate exceeded.\n",
            "The Jupyter server will temporarily stop sending output\n",
            "to the client in order to avoid crashing it.\n",
            "To change this limit, set the config variable\n",
            "`--ServerApp.iopub_msg_rate_limit`.\n",
            "\n",
            "Current values:\n",
            "ServerApp.iopub_msg_rate_limit=1000.0 (msgs/sec)\n",
            "ServerApp.rate_limit_window=3.0 (secs)\n",
            "\n"
          ]
        },
        {
          "name": "stdout",
          "output_type": "stream",
          "text": [
            " (2.93%) [=>                                                 ]=>                                                 ]=>                                                 ]=>                                                 ]=>                                                 ]=>                                                 ]=>                                                 ]=>                                                 ]=>                                                 ]=>                                                 ]=>                                                 ]=>                                                 ]=>                                                 ]=>                                                 ]=>                                                 ]=>                                                 ]=>                                                 ]=>                                                 ]=>                                                 ]=>                                                 ]=>                                                 ]=>                                                 ]=>                                                 ]=>                                                 ]=>                                                 ]=>                                                 ]=>                                                 ]=>                                                 ]=>                                                 ]=>                                                 ]=>                                                 ]=>                                                 ]=>                                                 ]=>                                                 ]=>                                                 ]=>                                                 ]=>                                                 ]=>                                                 ]=>                                                 ]=>                                                 ]=>                                                 ]=>                                                 ]=>                                                 ]=>                                                 ]=>                                                 ]=>                                                 ]=>                                                 ]=>                                                 ]=>                                                 ]=>                                                 ]=>                                                 ]=>                                                 ]=>                                                 ]=>                                                 ]=>                                                 ]=>                                                 ]=>                                                 ]=>                                                 ]=>                                                 ]=>                                                 ]=>                                                 ]\r"
          ]
        },
        {
          "name": "stderr",
          "output_type": "stream",
          "text": [
            "IOPub message rate exceeded.\n",
            "The Jupyter server will temporarily stop sending output\n",
            "to the client in order to avoid crashing it.\n",
            "To change this limit, set the config variable\n",
            "`--ServerApp.iopub_msg_rate_limit`.\n",
            "\n",
            "Current values:\n",
            "ServerApp.iopub_msg_rate_limit=1000.0 (msgs/sec)\n",
            "ServerApp.rate_limit_window=3.0 (secs)\n",
            "\n"
          ]
        },
        {
          "name": "stdout",
          "output_type": "stream",
          "text": [
            " (4.12%) [==>                                                ]=>                                                 ]=>                                                 ]=>                                                 ]=>                                                 ]=>                                                 ]=>                                                 ]=>                                                 ]=>                                                 ]=>                                                 ]=>                                                 ]=>                                                 ]=>                                                 ]=>                                                 ]=>                                                 ]=>                                                 ]=>                                                 ]=>                                                 ]=>                                                 ]=>                                                 ]=>                                                 ]=>                                                 ]=>                                                 ]=>                                                 ]=>                                                 ]=>                                                 ]=>                                                 ]=>                                                 ]=>                                                 ]=>                                                 ]=>                                                 ]=>                                                 ]=>                                                 ]=>                                                 ]=>                                                 ]=>                                                 ]=>                                                 ]=>                                                 ]=>                                                 ]=>                                                 ]=>                                                 ]=>                                                 ]=>                                                 ]=>                                                 ]=>                                                 ]=>                                                 ]=>                                                 ]=>                                                 ]=>                                                 ]=>                                                 ]=>                                                 ]==>                                                ]==>                                                ]==>                                                ]==>                                                ]==>                                                ]==>                                                ]==>                                                ]==>                                                ]==>                                                ]==>                                                ]\r"
          ]
        },
        {
          "name": "stderr",
          "output_type": "stream",
          "text": [
            "IOPub message rate exceeded.\n",
            "The Jupyter server will temporarily stop sending output\n",
            "to the client in order to avoid crashing it.\n",
            "To change this limit, set the config variable\n",
            "`--ServerApp.iopub_msg_rate_limit`.\n",
            "\n",
            "Current values:\n",
            "ServerApp.iopub_msg_rate_limit=1000.0 (msgs/sec)\n",
            "ServerApp.rate_limit_window=3.0 (secs)\n",
            "\n"
          ]
        },
        {
          "name": "stdout",
          "output_type": "stream",
          "text": [
            " (5.40%) [==>                                                ]==>                                                ]==>                                                ]==>                                                ]==>                                                ]==>                                                ]==>                                                ]==>                                                ]==>                                                ]==>                                                ]==>                                                ]==>                                                ]==>                                                ]==>                                                ]==>                                                ]==>                                                ]==>                                                ]==>                                                ]==>                                                ]==>                                                ]==>                                                ]==>                                                ]==>                                                ]==>                                                ]==>                                                ]==>                                                ]==>                                                ]==>                                                ]==>                                                ]==>                                                ]==>                                                ]==>                                                ]==>                                                ]==>                                                ]==>                                                ]==>                                                ]==>                                                ]==>                                                ]==>                                                ]==>                                                ]==>                                                ]==>                                                ]==>                                                ]==>                                                ]==>                                                ]==>                                                ]==>                                                ]==>                                                ]==>                                                ]==>                                                ]==>                                                ]==>                                                ]\r"
          ]
        },
        {
          "name": "stderr",
          "output_type": "stream",
          "text": [
            "IOPub message rate exceeded.\n",
            "The Jupyter server will temporarily stop sending output\n",
            "to the client in order to avoid crashing it.\n",
            "To change this limit, set the config variable\n",
            "`--ServerApp.iopub_msg_rate_limit`.\n",
            "\n",
            "Current values:\n",
            "ServerApp.iopub_msg_rate_limit=1000.0 (msgs/sec)\n",
            "ServerApp.rate_limit_window=3.0 (secs)\n",
            "\n"
          ]
        },
        {
          "name": "stdout",
          "output_type": "stream",
          "text": [
            " (6.59%) [===>                                               ]===>                                               ]===>                                               ]===>                                               ]===>                                               ]===>                                               ]===>                                               ]===>                                               ]===>                                               ]===>                                               ]===>                                               ]===>                                               ]===>                                               ]===>                                               ]===>                                               ]===>                                               ]===>                                               ]===>                                               ]===>                                               ]===>                                               ]===>                                               ]===>                                               ]===>                                               ]===>                                               ]===>                                               ]===>                                               ]===>                                               ]===>                                               ]===>                                               ]===>                                               ]===>                                               ]===>                                               ]===>                                               ]===>                                               ]===>                                               ]===>                                               ]===>                                               ]===>                                               ]===>                                               ]===>                                               ]===>                                               ]===>                                               ]===>                                               ]===>                                               ]\r"
          ]
        },
        {
          "name": "stderr",
          "output_type": "stream",
          "text": [
            "IOPub message rate exceeded.\n",
            "The Jupyter server will temporarily stop sending output\n",
            "to the client in order to avoid crashing it.\n",
            "To change this limit, set the config variable\n",
            "`--ServerApp.iopub_msg_rate_limit`.\n",
            "\n",
            "Current values:\n",
            "ServerApp.iopub_msg_rate_limit=1000.0 (msgs/sec)\n",
            "ServerApp.rate_limit_window=3.0 (secs)\n",
            "\n"
          ]
        },
        {
          "name": "stdout",
          "output_type": "stream",
          "text": [
            " (7.85%) [===>                                               ]===>                                               ]===>                                               ]===>                                               ]===>                                               ]===>                                               ]===>                                               ]===>                                               ]===>                                               ]===>                                               ]===>                                               ]===>                                               ]===>                                               ]===>                                               ]===>                                               ]===>                                               ]===>                                               ]===>                                               ]===>                                               ]===>                                               ]===>                                               ]===>                                               ]===>                                               ]===>                                               ]===>                                               ]===>                                               ]===>                                               ]===>                                               ]===>                                               ]===>                                               ]===>                                               ]===>                                               ]===>                                               ]===>                                               ]===>                                               ]===>                                               ]===>                                               ]===>                                               ]===>                                               ]===>                                               ]===>                                               ]===>                                               ]===>                                               ]===>                                               ]===>                                               ]===>                                               ]===>                                               ]===>                                               ]\r"
          ]
        },
        {
          "name": "stderr",
          "output_type": "stream",
          "text": [
            "IOPub message rate exceeded.\n",
            "The Jupyter server will temporarily stop sending output\n",
            "to the client in order to avoid crashing it.\n",
            "To change this limit, set the config variable\n",
            "`--ServerApp.iopub_msg_rate_limit`.\n",
            "\n",
            "Current values:\n",
            "ServerApp.iopub_msg_rate_limit=1000.0 (msgs/sec)\n",
            "ServerApp.rate_limit_window=3.0 (secs)\n",
            "\n"
          ]
        },
        {
          "name": "stdout",
          "output_type": "stream",
          "text": [
            " (9.09%) [====>                                              ]====>                                              ]====>                                              ]====>                                              ]====>                                              ]====>                                              ]====>                                              ]====>                                              ]====>                                              ]====>                                              ]====>                                              ]====>                                              ]====>                                              ]====>                                              ]====>                                              ]====>                                              ]====>                                              ]====>                                              ]====>                                              ]====>                                              ]====>                                              ]====>                                              ]====>                                              ]====>                                              ]====>                                              ]====>                                              ]====>                                              ]====>                                              ]====>                                              ]====>                                              ]====>                                              ]====>                                              ]====>                                              ]====>                                              ]====>                                              ]====>                                              ]====>                                              ]====>                                              ]====>                                              ]====>                                              ]====>                                              ]====>                                              ]====>                                              ]====>                                              ]====>                                              ]====>                                              ]====>                                              ]====>                                              ]====>                                              ]====>                                              ]====>                                              ]====>                                              ]====>                                              ]====>                                              ]====>                                              ]====>                                              ]====>                                              ]====>                                              ]====>                                              ]====>                                              ]====>                                              ]====>                                              ]====>                                              ]====>                                              ]====>                                              ]====>                                              ]====>                                              ]====>                                              ]====>                                              ]====>                                              ]====>                                              ]====>                                              ]====>                                              ]\r"
          ]
        },
        {
          "name": "stderr",
          "output_type": "stream",
          "text": [
            "IOPub message rate exceeded.\n",
            "The Jupyter server will temporarily stop sending output\n",
            "to the client in order to avoid crashing it.\n",
            "To change this limit, set the config variable\n",
            "`--ServerApp.iopub_msg_rate_limit`.\n",
            "\n",
            "Current values:\n",
            "ServerApp.iopub_msg_rate_limit=1000.0 (msgs/sec)\n",
            "ServerApp.rate_limit_window=3.0 (secs)\n",
            "\n"
          ]
        },
        {
          "name": "stdout",
          "output_type": "stream",
          "text": [
            " (10.40%) [=====>                                             ]===>                                              ]====>                                              ]====>                                              ]====>                                              ]====>                                              ]====>                                              ]====>                                              ]====>                                              ]====>                                              ]====>                                              ]====>                                              ]====>                                              ]====>                                              ]====>                                              ]====>                                              ]====>                                              ]====>                                              ]====>                                              ]====>                                              ]====>                                              ]====>                                              ]====>                                              ]=====>                                             ]=====>                                             ]=====>                                             ]=====>                                             ]=====>                                             ]=====>                                             ]=====>                                             ]=====>                                             ]=====>                                             ]=====>                                             ]=====>                                             ]=====>                                             ]=====>                                             ]=====>                                             ]=====>                                             ]=====>                                             ]=====>                                             ]=====>                                             ]=====>                                             ]=====>                                             ]=====>                                             ]=====>                                             ]=====>                                             ]=====>                                             ]=====>                                             ]=====>                                             ]=====>                                             ]=====>                                             ]=====>                                             ]=====>                                             ]=====>                                             ]=====>                                             ]=====>                                             ]=====>                                             ]=====>                                             ]=====>                                             ]=====>                                             ]=====>                                             ]=====>                                             ]=====>                                             ]=====>                                             ]=====>                                             ]=====>                                             ]=====>                                             ]=====>                                             ]=====>                                             ]=====>                                             ]=====>                                             ]=====>                                             ]=====>                                             ]=====>                                             ]=====>                                             ]=====>                                             ]=====>                                             ]=====>                                             ]=====>                                             ]=====>                                             ]=====>                                             ]=====>                                             ]=====>                                             ]=====>                                             ]=====>                                             ]=====>                                             ]=====>                                             ]=====>                                             ]=====>                                             ]=====>                                             ]=====>                                             ]=====>                                             ]=====>                                             ]=====>                                             ]=====>                                             ]=====>                                             ]\r"
          ]
        },
        {
          "name": "stderr",
          "output_type": "stream",
          "text": [
            "IOPub message rate exceeded.\n",
            "The Jupyter server will temporarily stop sending output\n",
            "to the client in order to avoid crashing it.\n",
            "To change this limit, set the config variable\n",
            "`--ServerApp.iopub_msg_rate_limit`.\n",
            "\n",
            "Current values:\n",
            "ServerApp.iopub_msg_rate_limit=1000.0 (msgs/sec)\n",
            "ServerApp.rate_limit_window=3.0 (secs)\n",
            "\n"
          ]
        },
        {
          "name": "stdout",
          "output_type": "stream",
          "text": [
            " (11.59%) [=====>                                             ]=====>                                             ]=====>                                             ]=====>                                             ]=====>                                             ]=====>                                             ]=====>                                             ]=====>                                             ]=====>                                             ]=====>                                             ]=====>                                             ]=====>                                             ]=====>                                             ]=====>                                             ]=====>                                             ]=====>                                             ]=====>                                             ]=====>                                             ]=====>                                             ]=====>                                             ]=====>                                             ]=====>                                             ]=====>                                             ]=====>                                             ]=====>                                             ]=====>                                             ]=====>                                             ]=====>                                             ]=====>                                             ]=====>                                             ]=====>                                             ]=====>                                             ]=====>                                             ]=====>                                             ]=====>                                             ]=====>                                             ]=====>                                             ]=====>                                             ]=====>                                             ]=====>                                             ]=====>                                             ]=====>                                             ]=====>                                             ]=====>                                             ]=====>                                             ]=====>                                             ]=====>                                             ]=====>                                             ]\r"
          ]
        },
        {
          "name": "stderr",
          "output_type": "stream",
          "text": [
            "IOPub message rate exceeded.\n",
            "The Jupyter server will temporarily stop sending output\n",
            "to the client in order to avoid crashing it.\n",
            "To change this limit, set the config variable\n",
            "`--ServerApp.iopub_msg_rate_limit`.\n",
            "\n",
            "Current values:\n",
            "ServerApp.iopub_msg_rate_limit=1000.0 (msgs/sec)\n",
            "ServerApp.rate_limit_window=3.0 (secs)\n",
            "\n"
          ]
        },
        {
          "name": "stdout",
          "output_type": "stream",
          "text": [
            " (12.74%) [======>                                            ]======>                                            ]======>                                            ]======>                                            ]======>                                            ]======>                                            ]======>                                            ]======>                                            ]======>                                            ]======>                                            ]======>                                            ]======>                                            ]======>                                            ]======>                                            ]======>                                            ]======>                                            ]======>                                            ]======>                                            ]======>                                            ]======>                                            ]======>                                            ]======>                                            ]======>                                            ]======>                                            ]======>                                            ]======>                                            ]======>                                            ]======>                                            ]======>                                            ]======>                                            ]======>                                            ]======>                                            ]======>                                            ]======>                                            ]======>                                            ]======>                                            ]======>                                            ]======>                                            ]======>                                            ]======>                                            ]======>                                            ]======>                                            ]======>                                            ]======>                                            ]======>                                            ]======>                                            ]======>                                            ]======>                                            ]======>                                            ]======>                                            ]======>                                            ]======>                                            ]======>                                            ]======>                                            ]======>                                            ]======>                                            ]======>                                            ]======>                                            ]======>                                            ]======>                                            ]\r"
          ]
        },
        {
          "name": "stderr",
          "output_type": "stream",
          "text": [
            "IOPub message rate exceeded.\n",
            "The Jupyter server will temporarily stop sending output\n",
            "to the client in order to avoid crashing it.\n",
            "To change this limit, set the config variable\n",
            "`--ServerApp.iopub_msg_rate_limit`.\n",
            "\n",
            "Current values:\n",
            "ServerApp.iopub_msg_rate_limit=1000.0 (msgs/sec)\n",
            "ServerApp.rate_limit_window=3.0 (secs)\n",
            "\n"
          ]
        },
        {
          "name": "stdout",
          "output_type": "stream",
          "text": [
            " (13.99%) [======>                                            ]======>                                            ]======>                                            ]======>                                            ]======>                                            ]======>                                            ]======>                                            ]======>                                            ]======>                                            ]======>                                            ]======>                                            ]======>                                            ]======>                                            ]======>                                            ]======>                                            ]======>                                            ]======>                                            ]======>                                            ]======>                                            ]======>                                            ]======>                                            ]======>                                            ]======>                                            ]======>                                            ]======>                                            ]======>                                            ]======>                                            ]======>                                            ]======>                                            ]======>                                            ]======>                                            ]======>                                            ]======>                                            ]======>                                            ]======>                                            ]======>                                            ]======>                                            ]======>                                            ]======>                                            ]======>                                            ]======>                                            ]======>                                            ]======>                                            ]======>                                            ]======>                                            ]======>                                            ]======>                                            ]======>                                            ]======>                                            ]======>                                            ]======>                                            ]======>                                            ]======>                                            ]======>                                            ]======>                                            ]======>                                            ]======>                                            ]\r"
          ]
        },
        {
          "name": "stderr",
          "output_type": "stream",
          "text": [
            "IOPub message rate exceeded.\n",
            "The Jupyter server will temporarily stop sending output\n",
            "to the client in order to avoid crashing it.\n",
            "To change this limit, set the config variable\n",
            "`--ServerApp.iopub_msg_rate_limit`.\n",
            "\n",
            "Current values:\n",
            "ServerApp.iopub_msg_rate_limit=1000.0 (msgs/sec)\n",
            "ServerApp.rate_limit_window=3.0 (secs)\n",
            "\n"
          ]
        },
        {
          "name": "stdout",
          "output_type": "stream",
          "text": [
            " (15.21%) [=======>                                           ]=======>                                           ]=======>                                           ]=======>                                           ]=======>                                           ]=======>                                           ]=======>                                           ]=======>                                           ]=======>                                           ]=======>                                           ]=======>                                           ]=======>                                           ]=======>                                           ]=======>                                           ]=======>                                           ]=======>                                           ]=======>                                           ]=======>                                           ]=======>                                           ]=======>                                           ]=======>                                           ]=======>                                           ]=======>                                           ]=======>                                           ]=======>                                           ]=======>                                           ]=======>                                           ]=======>                                           ]=======>                                           ]=======>                                           ]=======>                                           ]=======>                                           ]=======>                                           ]=======>                                           ]=======>                                           ]=======>                                           ]=======>                                           ]=======>                                           ]=======>                                           ]=======>                                           ]=======>                                           ]=======>                                           ]=======>                                           ]=======>                                           ]=======>                                           ]=======>                                           ]=======>                                           ]=======>                                           ]=======>                                           ]=======>                                           ]=======>                                           ]=======>                                           ]=======>                                           ]=======>                                           ]=======>                                           ]=======>                                           ]=======>                                           ]=======>                                           ]\r"
          ]
        },
        {
          "name": "stderr",
          "output_type": "stream",
          "text": [
            "IOPub message rate exceeded.\n",
            "The Jupyter server will temporarily stop sending output\n",
            "to the client in order to avoid crashing it.\n",
            "To change this limit, set the config variable\n",
            "`--ServerApp.iopub_msg_rate_limit`.\n",
            "\n",
            "Current values:\n",
            "ServerApp.iopub_msg_rate_limit=1000.0 (msgs/sec)\n",
            "ServerApp.rate_limit_window=3.0 (secs)\n",
            "\n"
          ]
        },
        {
          "name": "stdout",
          "output_type": "stream",
          "text": [
            " (16.50%) [========>                                          ]========>                                          ]========>                                          ]========>                                          ]========>                                          ]========>                                          ]========>                                          ]========>                                          ]========>                                          ]========>                                          ]========>                                          ]========>                                          ]========>                                          ]========>                                          ]========>                                          ]========>                                          ]========>                                          ]========>                                          ]========>                                          ]========>                                          ]========>                                          ]========>                                          ]========>                                          ]========>                                          ]========>                                          ]========>                                          ]========>                                          ]========>                                          ]========>                                          ]========>                                          ]========>                                          ]========>                                          ]========>                                          ]\r"
          ]
        },
        {
          "name": "stderr",
          "output_type": "stream",
          "text": [
            "IOPub message rate exceeded.\n",
            "The Jupyter server will temporarily stop sending output\n",
            "to the client in order to avoid crashing it.\n",
            "To change this limit, set the config variable\n",
            "`--ServerApp.iopub_msg_rate_limit`.\n",
            "\n",
            "Current values:\n",
            "ServerApp.iopub_msg_rate_limit=1000.0 (msgs/sec)\n",
            "ServerApp.rate_limit_window=3.0 (secs)\n",
            "\n"
          ]
        },
        {
          "name": "stdout",
          "output_type": "stream",
          "text": [
            " (17.80%) [========>                                          ]========>                                          ]========>                                          ]========>                                          ]========>                                          ]========>                                          ]========>                                          ]========>                                          ]========>                                          ]========>                                          ]========>                                          ]\r"
          ]
        },
        {
          "name": "stderr",
          "output_type": "stream",
          "text": [
            "IOPub message rate exceeded.\n",
            "The Jupyter server will temporarily stop sending output\n",
            "to the client in order to avoid crashing it.\n",
            "To change this limit, set the config variable\n",
            "`--ServerApp.iopub_msg_rate_limit`.\n",
            "\n",
            "Current values:\n",
            "ServerApp.iopub_msg_rate_limit=1000.0 (msgs/sec)\n",
            "ServerApp.rate_limit_window=3.0 (secs)\n",
            "\n"
          ]
        },
        {
          "name": "stdout",
          "output_type": "stream",
          "text": [
            " (19.11%) [=========>                                         ]=========>                                         ]=========>                                         ]=========>                                         ]=========>                                         ]=========>                                         ]=========>                                         ]=========>                                         ]=========>                                         ]=========>                                         ]=========>                                         ]=========>                                         ]=========>                                         ]=========>                                         ]=========>                                         ]=========>                                         ]=========>                                         ]=========>                                         ]=========>                                         ]=========>                                         ]=========>                                         ]=========>                                         ]=========>                                         ]=========>                                         ]=========>                                         ]=========>                                         ]=========>                                         ]=========>                                         ]=========>                                         ]=========>                                         ]=========>                                         ]=========>                                         ]=========>                                         ]=========>                                         ]=========>                                         ]=========>                                         ]=========>                                         ]=========>                                         ]=========>                                         ]=========>                                         ]=========>                                         ]=========>                                         ]=========>                                         ]=========>                                         ]=========>                                         ]=========>                                         ]=========>                                         ]=========>                                         ]=========>                                         ]=========>                                         ]=========>                                         ]=========>                                         ]=========>                                         ]\r"
          ]
        },
        {
          "name": "stderr",
          "output_type": "stream",
          "text": [
            "IOPub message rate exceeded.\n",
            "The Jupyter server will temporarily stop sending output\n",
            "to the client in order to avoid crashing it.\n",
            "To change this limit, set the config variable\n",
            "`--ServerApp.iopub_msg_rate_limit`.\n",
            "\n",
            "Current values:\n",
            "ServerApp.iopub_msg_rate_limit=1000.0 (msgs/sec)\n",
            "ServerApp.rate_limit_window=3.0 (secs)\n",
            "\n"
          ]
        },
        {
          "name": "stdout",
          "output_type": "stream",
          "text": [
            " (20.45%) [==========>                                        ]=========>                                         ]=========>                                         ]==========>                                        ]==========>                                        ]==========>                                        ]==========>                                        ]==========>                                        ]==========>                                        ]==========>                                        ]==========>                                        ]==========>                                        ]==========>                                        ]==========>                                        ]==========>                                        ]==========>                                        ]==========>                                        ]==========>                                        ]\r"
          ]
        },
        {
          "name": "stderr",
          "output_type": "stream",
          "text": [
            "IOPub message rate exceeded.\n",
            "The Jupyter server will temporarily stop sending output\n",
            "to the client in order to avoid crashing it.\n",
            "To change this limit, set the config variable\n",
            "`--ServerApp.iopub_msg_rate_limit`.\n",
            "\n",
            "Current values:\n",
            "ServerApp.iopub_msg_rate_limit=1000.0 (msgs/sec)\n",
            "ServerApp.rate_limit_window=3.0 (secs)\n",
            "\n"
          ]
        },
        {
          "name": "stdout",
          "output_type": "stream",
          "text": [
            " (21.82%) [==========>                                        ]==========>                                        ]==========>                                        ]==========>                                        ]==========>                                        ]==========>                                        ]==========>                                        ]==========>                                        ]==========>                                        ]==========>                                        ]==========>                                        ]==========>                                        ]==========>                                        ]==========>                                        ]==========>                                        ]==========>                                        ]==========>                                        ]==========>                                        ]==========>                                        ]==========>                                        ]==========>                                        ]==========>                                        ]==========>                                        ]\r"
          ]
        },
        {
          "name": "stderr",
          "output_type": "stream",
          "text": [
            "IOPub message rate exceeded.\n",
            "The Jupyter server will temporarily stop sending output\n",
            "to the client in order to avoid crashing it.\n",
            "To change this limit, set the config variable\n",
            "`--ServerApp.iopub_msg_rate_limit`.\n",
            "\n",
            "Current values:\n",
            "ServerApp.iopub_msg_rate_limit=1000.0 (msgs/sec)\n",
            "ServerApp.rate_limit_window=3.0 (secs)\n",
            "\n"
          ]
        },
        {
          "name": "stdout",
          "output_type": "stream",
          "text": [
            " (23.02%) [===========>                                       ]===========>                                       ]===========>                                       ]===========>                                       ]===========>                                       ]===========>                                       ]===========>                                       ]===========>                                       ]===========>                                       ]===========>                                       ]===========>                                       ]===========>                                       ]===========>                                       ]===========>                                       ]===========>                                       ]===========>                                       ]===========>                                       ]===========>                                       ]===========>                                       ]===========>                                       ]===========>                                       ]===========>                                       ]===========>                                       ]===========>                                       ]===========>                                       ]===========>                                       ]===========>                                       ]===========>                                       ]===========>                                       ]===========>                                       ]===========>                                       ]===========>                                       ]===========>                                       ]===========>                                       ]===========>                                       ]===========>                                       ]===========>                                       ]===========>                                       ]===========>                                       ]===========>                                       ]===========>                                       ]\r"
          ]
        },
        {
          "name": "stderr",
          "output_type": "stream",
          "text": [
            "IOPub message rate exceeded.\n",
            "The Jupyter server will temporarily stop sending output\n",
            "to the client in order to avoid crashing it.\n",
            "To change this limit, set the config variable\n",
            "`--ServerApp.iopub_msg_rate_limit`.\n",
            "\n",
            "Current values:\n",
            "ServerApp.iopub_msg_rate_limit=1000.0 (msgs/sec)\n",
            "ServerApp.rate_limit_window=3.0 (secs)\n",
            "\n"
          ]
        },
        {
          "name": "stdout",
          "output_type": "stream",
          "text": [
            " (24.38%) [============>                                      ]===========>                                       ]===========>                                       ]===========>                                       ]===========>                                       ]===========>                                       ]============>                                      ]============>                                      ]============>                                      ]============>                                      ]============>                                      ]============>                                      ]============>                                      ]============>                                      ]============>                                      ]============>                                      ]============>                                      ]============>                                      ]============>                                      ]\r"
          ]
        },
        {
          "name": "stderr",
          "output_type": "stream",
          "text": [
            "IOPub message rate exceeded.\n",
            "The Jupyter server will temporarily stop sending output\n",
            "to the client in order to avoid crashing it.\n",
            "To change this limit, set the config variable\n",
            "`--ServerApp.iopub_msg_rate_limit`.\n",
            "\n",
            "Current values:\n",
            "ServerApp.iopub_msg_rate_limit=1000.0 (msgs/sec)\n",
            "ServerApp.rate_limit_window=3.0 (secs)\n",
            "\n"
          ]
        },
        {
          "name": "stdout",
          "output_type": "stream",
          "text": [
            " (25.71%) [============>                                      ]============>                                      ]============>                                      ]============>                                      ]============>                                      ]============>                                      ]============>                                      ]============>                                      ]============>                                      ]============>                                      ]============>                                      ]============>                                      ]============>                                      ]============>                                      ]============>                                      ]============>                                      ]============>                                      ]============>                                      ]============>                                      ]============>                                      ]============>                                      ]============>                                      ]============>                                      ]============>                                      ]============>                                      ]============>                                      ]============>                                      ]============>                                      ]============>                                      ]============>                                      ]============>                                      ]============>                                      ]============>                                      ]============>                                      ]============>                                      ]============>                                      ]============>                                      ]============>                                      ]============>                                      ]============>                                      ]============>                                      ]============>                                      ]============>                                      ]\r"
          ]
        },
        {
          "name": "stderr",
          "output_type": "stream",
          "text": [
            "IOPub message rate exceeded.\n",
            "The Jupyter server will temporarily stop sending output\n",
            "to the client in order to avoid crashing it.\n",
            "To change this limit, set the config variable\n",
            "`--ServerApp.iopub_msg_rate_limit`.\n",
            "\n",
            "Current values:\n",
            "ServerApp.iopub_msg_rate_limit=1000.0 (msgs/sec)\n",
            "ServerApp.rate_limit_window=3.0 (secs)\n",
            "\n"
          ]
        },
        {
          "name": "stdout",
          "output_type": "stream",
          "text": [
            " (27.08%) [=============>                                     ]=============>                                     ]=============>                                     ]=============>                                     ]=============>                                     ]=============>                                     ]=============>                                     ]=============>                                     ]=============>                                     ]=============>                                     ]=============>                                     ]=============>                                     ]=============>                                     ]=============>                                     ]=============>                                     ]=============>                                     ]=============>                                     ]=============>                                     ]=============>                                     ]=============>                                     ]=============>                                     ]=============>                                     ]=============>                                     ]=============>                                     ]=============>                                     ]=============>                                     ]=============>                                     ]=============>                                     ]=============>                                     ]=============>                                     ]=============>                                     ]=============>                                     ]=============>                                     ]=============>                                     ]\r"
          ]
        },
        {
          "name": "stderr",
          "output_type": "stream",
          "text": [
            "IOPub message rate exceeded.\n",
            "The Jupyter server will temporarily stop sending output\n",
            "to the client in order to avoid crashing it.\n",
            "To change this limit, set the config variable\n",
            "`--ServerApp.iopub_msg_rate_limit`.\n",
            "\n",
            "Current values:\n",
            "ServerApp.iopub_msg_rate_limit=1000.0 (msgs/sec)\n",
            "ServerApp.rate_limit_window=3.0 (secs)\n",
            "\n"
          ]
        },
        {
          "name": "stdout",
          "output_type": "stream",
          "text": [
            " (55.45%) [===========================>                       ]=============>                                     ]=============>                                     ]=============>                                     ]=============>                                     ]=============>                                     ]=============>                                     ]=============>                                     ]=============>                                     ]=============>                                     ]=============>                                     ]=============>                                     ]=============>                                     ]=============>                                     ]=============>                                     ]=============>                                     ]=============>                                     ]===========================>                       ]===========================>                       ]===========================>                       ]===========================>                       ]===========================>                       ]===========================>                       ]===========================>                       ]===========================>                       ]===========================>                       ]===========================>                       ]===========================>                       ]===========================>                       ]===========================>                       ]===========================>                       ]===========================>                       ]===========================>                       ]===========================>                       ]===========================>                       ]===========================>                       ]===========================>                       ]===========================>                       ]===========================>                       ]===========================>                       ]===========================>                       ]===========================>                       ]===========================>                       ]===========================>                       ]===========================>                       ]===========================>                       ]===========================>                       ]===========================>                       ]===========================>                       ]===========================>                       ]===========================>                       ]===========================>                       ]===========================>                       ]===========================>                       ]===========================>                       ]\r"
          ]
        },
        {
          "name": "stderr",
          "output_type": "stream",
          "text": [
            "IOPub message rate exceeded.\n",
            "The Jupyter server will temporarily stop sending output\n",
            "to the client in order to avoid crashing it.\n",
            "To change this limit, set the config variable\n",
            "`--ServerApp.iopub_msg_rate_limit`.\n",
            "\n",
            "Current values:\n",
            "ServerApp.iopub_msg_rate_limit=1000.0 (msgs/sec)\n",
            "ServerApp.rate_limit_window=3.0 (secs)\n",
            "\n"
          ]
        },
        {
          "name": "stdout",
          "output_type": "stream",
          "text": [
            " (77.40%) [======================================>            ]======================================>            ]======================================>            ]======================================>            ]======================================>            ]======================================>            ]======================================>            ]======================================>            ]======================================>            ]======================================>            ]======================================>            ]======================================>            ]======================================>            ]======================================>            ]======================================>            ]======================================>            ]======================================>            ]======================================>            ]======================================>            ]======================================>            ]======================================>            ]======================================>            ]======================================>            ]======================================>            ]======================================>            ]======================================>            ]======================================>            ]======================================>            ]======================================>            ]======================================>            ]======================================>            ]======================================>            ]======================================>            ]======================================>            ]======================================>            ]======================================>            ]======================================>            ]======================================>            ]======================================>            ]======================================>            ]======================================>            ]======================================>            ]======================================>            ]======================================>            ]======================================>            ]\r"
          ]
        },
        {
          "name": "stderr",
          "output_type": "stream",
          "text": [
            "IOPub message rate exceeded.\n",
            "The Jupyter server will temporarily stop sending output\n",
            "to the client in order to avoid crashing it.\n",
            "To change this limit, set the config variable\n",
            "`--ServerApp.iopub_msg_rate_limit`.\n",
            "\n",
            "Current values:\n",
            "ServerApp.iopub_msg_rate_limit=1000.0 (msgs/sec)\n",
            "ServerApp.rate_limit_window=3.0 (secs)\n",
            "\n"
          ]
        },
        {
          "name": "stdout",
          "output_type": "stream",
          "text": [
            " (95.53%) [===============================================>   ]===============================================>   ]===============================================>   ]===============================================>   ]===============================================>   ]===============================================>   ]===============================================>   ]===============================================>   ]===============================================>   ]===============================================>   ]===============================================>   ]===============================================>   ]===============================================>   ]===============================================>   ]===============================================>   ]===============================================>   ]===============================================>   ]===============================================>   ]===============================================>   ]===============================================>   ]===============================================>   ]===============================================>   ]===============================================>   ]===============================================>   ]===============================================>   ]===============================================>   ]===============================================>   ]===============================================>   ]\r"
          ]
        },
        {
          "name": "stderr",
          "output_type": "stream",
          "text": [
            "IOPub message rate exceeded.\n",
            "The Jupyter server will temporarily stop sending output\n",
            "to the client in order to avoid crashing it.\n",
            "To change this limit, set the config variable\n",
            "`--ServerApp.iopub_msg_rate_limit`.\n",
            "\n",
            "Current values:\n",
            "ServerApp.iopub_msg_rate_limit=1000.0 (msgs/sec)\n",
            "ServerApp.rate_limit_window=3.0 (secs)\n",
            "\n"
          ]
        },
        {
          "name": "stdout",
          "output_type": "stream",
          "text": [
            " (100.00%) [==================================================>]================================================> ]=================================================> ]=================================================> ]\n"
          ]
        },
        {
          "name": "stderr",
          "output_type": "stream",
          "text": [
            "Warning : `load_model` does not return WordVectorModel or SupervisedModel any more, but a `FastText` object which is very similar.\n"
          ]
        }
      ],
      "source": [
        "import fasttext\n",
        "import fasttext.util\n",
        "fasttext.util.download_model('en', if_exists='ignore')\n",
        "ft = fasttext.load_model('cc.en.300.bin')"
      ]
    },
    {
      "cell_type": "code",
      "execution_count": null,
      "id": "5a124faf-f15e-4181-ae8f-1b1a1ca30469",
      "metadata": {
        "id": "5a124faf-f15e-4181-ae8f-1b1a1ca30469"
      },
      "outputs": [],
      "source": [
        "def generateVector(sentence):\n",
        "    return ft.get_sentence_vector(sentence)\n",
        "\n",
        "vector1 = generateVector('Samsung to spend on artificial intelligence, cars')"
      ]
    },
    {
      "cell_type": "markdown",
      "source": [
        "Пока что применим данный метод для одного предложения из-за недостатка вычислительной мощности  "
      ],
      "metadata": {
        "id": "VeUzdPH4AKir"
      },
      "id": "VeUzdPH4AKir"
    },
    {
      "cell_type": "code",
      "execution_count": null,
      "id": "17cb30e3-d095-4ebb-8d2b-00cab91228f1",
      "metadata": {
        "id": "17cb30e3-d095-4ebb-8d2b-00cab91228f1"
      },
      "outputs": [],
      "source": [
        "df_clean['vector'] = df_clean['summary'].apply(generateVector)"
      ]
    },
    {
      "cell_type": "code",
      "execution_count": null,
      "id": "a626c53b-83d0-40e7-9f4e-e4e8c6b24a45",
      "metadata": {
        "id": "a626c53b-83d0-40e7-9f4e-e4e8c6b24a45"
      },
      "outputs": [],
      "source": [
        "from scipy import spatial\n",
        "\n",
        "def spatialDistance(vector1, vector2):\n",
        "    return spatial.distance.euclidean(vector1, vector2)"
      ]
    },
    {
      "cell_type": "code",
      "execution_count": null,
      "id": "90e9fa96-e0f3-46ea-9107-10457e8b036c",
      "metadata": {
        "id": "90e9fa96-e0f3-46ea-9107-10457e8b036c"
      },
      "outputs": [],
      "source": [
        "df_clean['score'] = df_clean.apply(lambda x: spatialDistance(vector1, x['vector']), axis=1)"
      ]
    },
    {
      "cell_type": "code",
      "execution_count": null,
      "id": "4af7f3e8-e643-48f7-be2a-42b829c7b2b3",
      "metadata": {
        "id": "4af7f3e8-e643-48f7-be2a-42b829c7b2b3",
        "outputId": "1570b87e-3c18-4884-d928-72a9d0801d6b"
      },
      "outputs": [
        {
          "data": {
            "text/html": [
              "<div>\n",
              "<style scoped>\n",
              "    .dataframe tbody tr th:only-of-type {\n",
              "        vertical-align: middle;\n",
              "    }\n",
              "\n",
              "    .dataframe tbody tr th {\n",
              "        vertical-align: top;\n",
              "    }\n",
              "\n",
              "    .dataframe thead th {\n",
              "        text-align: right;\n",
              "    }\n",
              "</style>\n",
              "<table border=\"1\" class=\"dataframe\">\n",
              "  <thead>\n",
              "    <tr style=\"text-align: right;\">\n",
              "      <th></th>\n",
              "      <th>title</th>\n",
              "      <th>description</th>\n",
              "      <th>data_set_type</th>\n",
              "      <th>tagged_docs</th>\n",
              "      <th>doc_key</th>\n",
              "      <th>class_index</th>\n",
              "      <th>class_name</th>\n",
              "      <th>number_of_keywords</th>\n",
              "      <th>summary</th>\n",
              "      <th>summary_clean</th>\n",
              "      <th>tokens_nltk</th>\n",
              "      <th>vector</th>\n",
              "      <th>score</th>\n",
              "    </tr>\n",
              "  </thead>\n",
              "  <tbody>\n",
              "    <tr>\n",
              "      <th>111063</th>\n",
              "      <td>Infineon to invest \\$1bn in Malaysia to produc...</td>\n",
              "      <td>LONDON, December 9 (newratings.com) - Infineon...</td>\n",
              "      <td>train</td>\n",
              "      <td>([infineon, to, invest, bn, in, malaysia, to, ...</td>\n",
              "      <td>111063</td>\n",
              "      <td>3</td>\n",
              "      <td>Business</td>\n",
              "      <td>10</td>\n",
              "      <td>Infineon to invest \\$1bn in Malaysia to produc...</td>\n",
              "      <td>infineon invest  malaysia produce chip car lon...</td>\n",
              "      <td>[infineon, invest, malaysia, produce, chip, ca...</td>\n",
              "      <td>[-0.009852617, -0.0075375135, -0.0053633642, 0...</td>\n",
              "      <td>0.313671</td>\n",
              "    </tr>\n",
              "    <tr>\n",
              "      <th>52627</th>\n",
              "      <td>Samsung plans to invest \\$24bn in chips by 2010</td>\n",
              "      <td>Samsung Electronics, the worlds second largest...</td>\n",
              "      <td>train</td>\n",
              "      <td>([samsung, plans, to, invest, bn, in, chips, b...</td>\n",
              "      <td>52627</td>\n",
              "      <td>3</td>\n",
              "      <td>Business</td>\n",
              "      <td>10</td>\n",
              "      <td>Samsung plans to invest \\$24bn in chips by 201...</td>\n",
              "      <td>samsung plan invest  chip  samsung electronics...</td>\n",
              "      <td>[samsung, plan, invest, chip, samsung, electro...</td>\n",
              "      <td>[-0.016411832, 0.014852064, 0.00688478, 0.0373...</td>\n",
              "      <td>0.314956</td>\n",
              "    </tr>\n",
              "    <tr>\n",
              "      <th>46565</th>\n",
              "      <td>Japan #39;s Matsushita developing memory cards...</td>\n",
              "      <td>Smart cards are on the rise in Japan, using co...</td>\n",
              "      <td>train</td>\n",
              "      <td>([japan, matsushita, developing, memory, cards...</td>\n",
              "      <td>46565</td>\n",
              "      <td>4</td>\n",
              "      <td>Science/Technology</td>\n",
              "      <td>18</td>\n",
              "      <td>Japan #39;s Matsushita developing memory cards...</td>\n",
              "      <td>japan  matsushita developing memory card   chi...</td>\n",
              "      <td>[japan, matsushita, developing, memory, card, ...</td>\n",
              "      <td>[-0.007864561, -0.010872349, 0.009922777, 0.02...</td>\n",
              "      <td>0.319292</td>\n",
              "    </tr>\n",
              "    <tr>\n",
              "      <th>23726</th>\n",
              "      <td>Phone Firms Rush to Get TV on Mobile Phones</td>\n",
              "      <td>AMSTERDAM (Reuters) - Europeans came a step c...</td>\n",
              "      <td>train</td>\n",
              "      <td>([phone, firms, rush, to, get, tv, on, mobile,...</td>\n",
              "      <td>23726</td>\n",
              "      <td>4</td>\n",
              "      <td>Science/Technology</td>\n",
              "      <td>18</td>\n",
              "      <td>Phone Firms Rush to Get TV on Mobile Phones.  ...</td>\n",
              "      <td>phone firm rush get tv mobile phone amsterdam ...</td>\n",
              "      <td>[phone, firm, rush, get, tv, mobile, phone, am...</td>\n",
              "      <td>[-0.008548644, 0.01317507, 0.010455595, 0.0283...</td>\n",
              "      <td>0.321009</td>\n",
              "    </tr>\n",
              "    <tr>\n",
              "      <th>20522</th>\n",
              "      <td>AMD, Infineon to spend \\$200m on nanotech know...</td>\n",
              "      <td>AMD and Infineon are to spend 170m (\\$200m) be...</td>\n",
              "      <td>train</td>\n",
              "      <td>([amd, infineon, to, spend, on, nanotech, know...</td>\n",
              "      <td>20522</td>\n",
              "      <td>4</td>\n",
              "      <td>Science/Technology</td>\n",
              "      <td>18</td>\n",
              "      <td>AMD, Infineon to spend \\$200m on nanotech know...</td>\n",
              "      <td>amd infineon spend  nanotech knowhow amd infin...</td>\n",
              "      <td>[amd, infineon, spend, nanotech, knowhow, amd,...</td>\n",
              "      <td>[-0.025509499, 0.0011180708, -0.010678598, 0.0...</td>\n",
              "      <td>0.322252</td>\n",
              "    </tr>\n",
              "    <tr>\n",
              "      <th>...</th>\n",
              "      <td>...</td>\n",
              "      <td>...</td>\n",
              "      <td>...</td>\n",
              "      <td>...</td>\n",
              "      <td>...</td>\n",
              "      <td>...</td>\n",
              "      <td>...</td>\n",
              "      <td>...</td>\n",
              "      <td>...</td>\n",
              "      <td>...</td>\n",
              "      <td>...</td>\n",
              "      <td>...</td>\n",
              "      <td>...</td>\n",
              "    </tr>\n",
              "    <tr>\n",
              "      <th>45922</th>\n",
              "      <td>- UMPIRES: Home,Andy Fletcher; First, Tim Welk...</td>\n",
              "      <td>#NAME?</td>\n",
              "      <td>train</td>\n",
              "      <td>([umpires, home, andy, fletcher, first, tim, w...</td>\n",
              "      <td>45922</td>\n",
              "      <td>2</td>\n",
              "      <td>Sports</td>\n",
              "      <td>32</td>\n",
              "      <td>- UMPIRES: Home,Andy Fletcher; First, Tim Welk...</td>\n",
              "      <td>umpire homeandy fletcher first tim welke secon...</td>\n",
              "      <td>[umpire, homeandy, fletcher, first, tim, welke...</td>\n",
              "      <td>[-0.012995782, 4.7127633e-05, -0.0022084056, 0...</td>\n",
              "      <td>0.625823</td>\n",
              "    </tr>\n",
              "    <tr>\n",
              "      <th>108630</th>\n",
              "      <td>Napster Creator Unleashes New File Sharing Ser...</td>\n",
              "      <td>Napster Creator Unleashes New File Sharing Ser...</td>\n",
              "      <td>train</td>\n",
              "      <td>([napster, creator, unleashes, new, file, shar...</td>\n",
              "      <td>108630</td>\n",
              "      <td>4</td>\n",
              "      <td>Science/Technology</td>\n",
              "      <td>18</td>\n",
              "      <td>Napster Creator Unleashes New File Sharing Ser...</td>\n",
              "      <td>napster creator unleashes new file sharing ser...</td>\n",
              "      <td>[napster, creator, unleashes, new, file, shari...</td>\n",
              "      <td>[0.014703998, 0.021867491, 0.0057042916, -0.02...</td>\n",
              "      <td>0.627861</td>\n",
              "    </tr>\n",
              "    <tr>\n",
              "      <th>29104</th>\n",
              "      <td>Predators re-sign D Zidlicky</td>\n",
              "      <td>#NAME?</td>\n",
              "      <td>train</td>\n",
              "      <td>([predators, re, sign, zidlicky, name], [29104])</td>\n",
              "      <td>29104</td>\n",
              "      <td>2</td>\n",
              "      <td>Sports</td>\n",
              "      <td>32</td>\n",
              "      <td>Predators re-sign D Zidlicky. #NAME?</td>\n",
              "      <td>predator resign zidlicky name</td>\n",
              "      <td>[predator, resign, zidlicky, name]</td>\n",
              "      <td>[-0.0020829253, -0.034757722, -0.003267822, 0....</td>\n",
              "      <td>0.644607</td>\n",
              "    </tr>\n",
              "    <tr>\n",
              "      <th>27643</th>\n",
              "      <td>LAZARUS MACY #39;S</td>\n",
              "      <td>PARENT COMPANY FEDERATED DEPARTMENT STORES PLA...</td>\n",
              "      <td>train</td>\n",
              "      <td>([lazarus, macy, parent, company, federated, d...</td>\n",
              "      <td>27643</td>\n",
              "      <td>3</td>\n",
              "      <td>Business</td>\n",
              "      <td>10</td>\n",
              "      <td>LAZARUS MACY #39;S. PARENT COMPANY FEDERATED D...</td>\n",
              "      <td>lazarus macy  parent company federated departm...</td>\n",
              "      <td>[lazarus, macy, parent, company, federated, de...</td>\n",
              "      <td>[0.007415981, -0.064463764, 0.026712984, -0.03...</td>\n",
              "      <td>0.656972</td>\n",
              "    </tr>\n",
              "    <tr>\n",
              "      <th>59529</th>\n",
              "      <td>Northern Light Announces Business Research Engine</td>\n",
              "      <td>Northern Light Announces Business Research Eng...</td>\n",
              "      <td>train</td>\n",
              "      <td>([northern, light, announces, business, resear...</td>\n",
              "      <td>59529</td>\n",
              "      <td>4</td>\n",
              "      <td>Science/Technology</td>\n",
              "      <td>18</td>\n",
              "      <td>Northern Light Announces Business Research Eng...</td>\n",
              "      <td>northern light announces business research eng...</td>\n",
              "      <td>[northern, light, announces, business, researc...</td>\n",
              "      <td>[-0.026936825, 0.020139901, 0.03276141, -0.023...</td>\n",
              "      <td>0.671421</td>\n",
              "    </tr>\n",
              "  </tbody>\n",
              "</table>\n",
              "<p>124784 rows × 13 columns</p>\n",
              "</div>"
            ],
            "text/plain": [
              "                                                    title  \\\n",
              "111063  Infineon to invest \\$1bn in Malaysia to produc...   \n",
              "52627     Samsung plans to invest \\$24bn in chips by 2010   \n",
              "46565   Japan #39;s Matsushita developing memory cards...   \n",
              "23726         Phone Firms Rush to Get TV on Mobile Phones   \n",
              "20522   AMD, Infineon to spend \\$200m on nanotech know...   \n",
              "...                                                   ...   \n",
              "45922   - UMPIRES: Home,Andy Fletcher; First, Tim Welk...   \n",
              "108630  Napster Creator Unleashes New File Sharing Ser...   \n",
              "29104                        Predators re-sign D Zidlicky   \n",
              "27643                                  LAZARUS MACY #39;S   \n",
              "59529   Northern Light Announces Business Research Engine   \n",
              "\n",
              "                                              description data_set_type  \\\n",
              "111063  LONDON, December 9 (newratings.com) - Infineon...         train   \n",
              "52627   Samsung Electronics, the worlds second largest...         train   \n",
              "46565   Smart cards are on the rise in Japan, using co...         train   \n",
              "23726    AMSTERDAM (Reuters) - Europeans came a step c...         train   \n",
              "20522   AMD and Infineon are to spend 170m (\\$200m) be...         train   \n",
              "...                                                   ...           ...   \n",
              "45922                                              #NAME?         train   \n",
              "108630  Napster Creator Unleashes New File Sharing Ser...         train   \n",
              "29104                                              #NAME?         train   \n",
              "27643   PARENT COMPANY FEDERATED DEPARTMENT STORES PLA...         train   \n",
              "59529   Northern Light Announces Business Research Eng...         train   \n",
              "\n",
              "                                              tagged_docs doc_key  \\\n",
              "111063  ([infineon, to, invest, bn, in, malaysia, to, ...  111063   \n",
              "52627   ([samsung, plans, to, invest, bn, in, chips, b...   52627   \n",
              "46565   ([japan, matsushita, developing, memory, cards...   46565   \n",
              "23726   ([phone, firms, rush, to, get, tv, on, mobile,...   23726   \n",
              "20522   ([amd, infineon, to, spend, on, nanotech, know...   20522   \n",
              "...                                                   ...     ...   \n",
              "45922   ([umpires, home, andy, fletcher, first, tim, w...   45922   \n",
              "108630  ([napster, creator, unleashes, new, file, shar...  108630   \n",
              "29104    ([predators, re, sign, zidlicky, name], [29104])   29104   \n",
              "27643   ([lazarus, macy, parent, company, federated, d...   27643   \n",
              "59529   ([northern, light, announces, business, resear...   59529   \n",
              "\n",
              "        class_index          class_name  number_of_keywords  \\\n",
              "111063            3            Business                  10   \n",
              "52627             3            Business                  10   \n",
              "46565             4  Science/Technology                  18   \n",
              "23726             4  Science/Technology                  18   \n",
              "20522             4  Science/Technology                  18   \n",
              "...             ...                 ...                 ...   \n",
              "45922             2              Sports                  32   \n",
              "108630            4  Science/Technology                  18   \n",
              "29104             2              Sports                  32   \n",
              "27643             3            Business                  10   \n",
              "59529             4  Science/Technology                  18   \n",
              "\n",
              "                                                  summary  \\\n",
              "111063  Infineon to invest \\$1bn in Malaysia to produc...   \n",
              "52627   Samsung plans to invest \\$24bn in chips by 201...   \n",
              "46565   Japan #39;s Matsushita developing memory cards...   \n",
              "23726   Phone Firms Rush to Get TV on Mobile Phones.  ...   \n",
              "20522   AMD, Infineon to spend \\$200m on nanotech know...   \n",
              "...                                                   ...   \n",
              "45922   - UMPIRES: Home,Andy Fletcher; First, Tim Welk...   \n",
              "108630  Napster Creator Unleashes New File Sharing Ser...   \n",
              "29104                Predators re-sign D Zidlicky. #NAME?   \n",
              "27643   LAZARUS MACY #39;S. PARENT COMPANY FEDERATED D...   \n",
              "59529   Northern Light Announces Business Research Eng...   \n",
              "\n",
              "                                            summary_clean  \\\n",
              "111063  infineon invest  malaysia produce chip car lon...   \n",
              "52627   samsung plan invest  chip  samsung electronics...   \n",
              "46565   japan  matsushita developing memory card   chi...   \n",
              "23726   phone firm rush get tv mobile phone amsterdam ...   \n",
              "20522   amd infineon spend  nanotech knowhow amd infin...   \n",
              "...                                                   ...   \n",
              "45922   umpire homeandy fletcher first tim welke secon...   \n",
              "108630  napster creator unleashes new file sharing ser...   \n",
              "29104                       predator resign zidlicky name   \n",
              "27643   lazarus macy  parent company federated departm...   \n",
              "59529   northern light announces business research eng...   \n",
              "\n",
              "                                              tokens_nltk  \\\n",
              "111063  [infineon, invest, malaysia, produce, chip, ca...   \n",
              "52627   [samsung, plan, invest, chip, samsung, electro...   \n",
              "46565   [japan, matsushita, developing, memory, card, ...   \n",
              "23726   [phone, firm, rush, get, tv, mobile, phone, am...   \n",
              "20522   [amd, infineon, spend, nanotech, knowhow, amd,...   \n",
              "...                                                   ...   \n",
              "45922   [umpire, homeandy, fletcher, first, tim, welke...   \n",
              "108630  [napster, creator, unleashes, new, file, shari...   \n",
              "29104                  [predator, resign, zidlicky, name]   \n",
              "27643   [lazarus, macy, parent, company, federated, de...   \n",
              "59529   [northern, light, announces, business, researc...   \n",
              "\n",
              "                                                   vector     score  \n",
              "111063  [-0.009852617, -0.0075375135, -0.0053633642, 0...  0.313671  \n",
              "52627   [-0.016411832, 0.014852064, 0.00688478, 0.0373...  0.314956  \n",
              "46565   [-0.007864561, -0.010872349, 0.009922777, 0.02...  0.319292  \n",
              "23726   [-0.008548644, 0.01317507, 0.010455595, 0.0283...  0.321009  \n",
              "20522   [-0.025509499, 0.0011180708, -0.010678598, 0.0...  0.322252  \n",
              "...                                                   ...       ...  \n",
              "45922   [-0.012995782, 4.7127633e-05, -0.0022084056, 0...  0.625823  \n",
              "108630  [0.014703998, 0.021867491, 0.0057042916, -0.02...  0.627861  \n",
              "29104   [-0.0020829253, -0.034757722, -0.003267822, 0....  0.644607  \n",
              "27643   [0.007415981, -0.064463764, 0.026712984, -0.03...  0.656972  \n",
              "59529   [-0.026936825, 0.020139901, 0.03276141, -0.023...  0.671421  \n",
              "\n",
              "[124784 rows x 13 columns]"
            ]
          },
          "execution_count": 44,
          "metadata": {},
          "output_type": "execute_result"
        }
      ],
      "source": [
        "df_clean.drop_duplicates(subset=['score']).sort_values(by=['score'])"
      ]
    }
  ],
  "metadata": {
    "kernelspec": {
      "display_name": "Python 3 (ipykernel)",
      "language": "python",
      "name": "python3"
    },
    "language_info": {
      "codemirror_mode": {
        "name": "ipython",
        "version": 3
      },
      "file_extension": ".py",
      "mimetype": "text/x-python",
      "name": "python",
      "nbconvert_exporter": "python",
      "pygments_lexer": "ipython3",
      "version": "3.8.10"
    },
    "colab": {
      "provenance": [],
      "toc_visible": true
    }
  },
  "nbformat": 4,
  "nbformat_minor": 5
}